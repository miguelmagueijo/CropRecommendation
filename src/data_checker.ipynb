{
 "cells": [
  {
   "cell_type": "markdown",
   "source": [
    "# Load CSVs\n",
    "Loads three CSVs that were found by searching \"Crop Recommendation\" on Google, DuckDuckGo and Bing. "
   ],
   "metadata": {
    "collapsed": false
   },
   "id": "f42b6332485847ff"
  },
  {
   "cell_type": "code",
   "execution_count": 1,
   "outputs": [],
   "source": [
    "import pandas as pd\n",
    "\n",
    "path_prefix = \"../Data/\"\n",
    "\n",
    "kaggle_csv = pd.read_csv(path_prefix + \"AtharvaIngle_CR.csv\")\n",
    "harvard_csv = pd.read_csv(path_prefix + \"RaulSingh_CR.csv\")\n",
    "wandb_csv = pd.read_csv(path_prefix + \"KaranNisar_CR.csv\")"
   ],
   "metadata": {
    "collapsed": false,
    "ExecuteTime": {
     "end_time": "2023-12-06T17:44:10.544692Z",
     "start_time": "2023-12-06T17:44:10.507401Z"
    }
   },
   "id": "a4d4ce3af75b61"
  },
  {
   "cell_type": "markdown",
   "source": [
    "## Columns of each file"
   ],
   "metadata": {
    "collapsed": false
   },
   "id": "2b08304045a601aa"
  },
  {
   "cell_type": "code",
   "execution_count": 2,
   "outputs": [
    {
     "name": "stdout",
     "output_type": "stream",
     "text": [
      "Kaggle: ['N', 'P', 'K', 'temperature', 'humidity', 'ph', 'rainfall', 'label']\n",
      "Harvard: ['N', 'P', 'K', 'temperature', 'humidity', 'ph', 'rainfall', 'label']\n",
      "Wandb: ['N', 'P', 'K', 'temperature', 'humidity', 'ph', 'rainfall', 'label']\n"
     ]
    }
   ],
   "source": [
    "print(f\"Kaggle: {list(kaggle_csv.columns)}\")\n",
    "print(f\"Harvard: {list(harvard_csv.columns)}\")\n",
    "print(f\"Wandb: {list(wandb_csv.columns)}\")"
   ],
   "metadata": {
    "collapsed": false,
    "ExecuteTime": {
     "end_time": "2023-12-06T17:44:10.551511Z",
     "start_time": "2023-12-06T17:44:10.543981Z"
    }
   },
   "id": "d0781b43392fe29b"
  },
  {
   "cell_type": "markdown",
   "source": [
    "## Total rows"
   ],
   "metadata": {
    "collapsed": false
   },
   "id": "5f0a09a762d93dfa"
  },
  {
   "cell_type": "code",
   "execution_count": 3,
   "outputs": [
    {
     "name": "stdout",
     "output_type": "stream",
     "text": [
      "Kaggle: 2200\n",
      "Harvard: 1697\n",
      "Wandb: 2708\n"
     ]
    }
   ],
   "source": [
    "print(f\"Kaggle: {len(kaggle_csv)}\")\n",
    "print(f\"Harvard: {len(harvard_csv)}\")\n",
    "print(f\"Wandb: {len(wandb_csv)}\")"
   ],
   "metadata": {
    "collapsed": false,
    "ExecuteTime": {
     "end_time": "2023-12-06T17:44:10.571270Z",
     "start_time": "2023-12-06T17:44:10.557775Z"
    }
   },
   "id": "a5a460bd52db4013"
  },
  {
   "cell_type": "markdown",
   "source": [
    "## Classes/Labels"
   ],
   "metadata": {
    "collapsed": false
   },
   "id": "25b0215b9d684cf0"
  },
  {
   "cell_type": "code",
   "execution_count": 4,
   "outputs": [
    {
     "name": "stdout",
     "output_type": "stream",
     "text": [
      "Kaggle (length: 22): ['apple' 'banana' 'blackgram' 'chickpea' 'coconut' 'coffee' 'cotton'\n",
      " 'grapes' 'jute' 'kidneybeans' 'lentil' 'maize' 'mango' 'mothbeans'\n",
      " 'mungbean' 'muskmelon' 'orange' 'papaya' 'pigeonpeas' 'pomegranate'\n",
      " 'rice' 'watermelon']\n",
      "Harvard (length: 15): ['Soyabeans' 'apple' 'banana' 'beans' 'coffee' 'cotton' 'cowpeas' 'grapes'\n",
      " 'groundnuts' 'maize' 'mango' 'orange' 'peas' 'rice' 'watermelon']\n",
      "Wandb (length: 9): ['apple' 'banana' 'grapes' 'mango' 'muskmelon' 'orange' 'papaya'\n",
      " 'pomegranate' 'watermelon']\n"
     ]
    }
   ],
   "source": [
    "import numpy as np\n",
    "\n",
    "kaggle_labels = np.sort(kaggle_csv.label.unique())\n",
    "harvard_labels = np.sort(harvard_csv.label.unique())\n",
    "wandb_labels = np.sort(wandb_csv.label.unique())\n",
    "\n",
    "print(f\"Kaggle (length: {len(kaggle_labels)}): {kaggle_labels}\")\n",
    "print(f\"Harvard (length: {len(harvard_labels)}): {harvard_labels}\")\n",
    "print(f\"Wandb (length: {len(wandb_labels)}): {wandb_labels}\")"
   ],
   "metadata": {
    "collapsed": false,
    "ExecuteTime": {
     "end_time": "2023-12-06T17:44:10.699596Z",
     "start_time": "2023-12-06T17:44:10.577311Z"
    }
   },
   "id": "42d997bd7825e802"
  },
  {
   "cell_type": "markdown",
   "source": [
    "## Change to lowercase column label of harvard_csv"
   ],
   "metadata": {
    "collapsed": false
   },
   "id": "f36544f087185653"
  },
  {
   "cell_type": "code",
   "execution_count": 5,
   "outputs": [
    {
     "name": "stdout",
     "output_type": "stream",
     "text": [
      "Total rows with 'Soyabeans' as label:  130\n",
      "Total rows with 'soyabeans' as label: 0\n",
      "Total rows with 'Soyabeans' as label after change: 0\n",
      "Total rows with 'soyabeans' as label after change: 130\n"
     ]
    }
   ],
   "source": [
    "print(f\"Total rows with 'Soyabeans' as label:  {len(harvard_csv[harvard_csv.label == 'Soyabeans'])}\")\n",
    "print(f\"Total rows with 'soyabeans' as label: {len(harvard_csv[harvard_csv.label == 'soyabeans'])}\")\n",
    "\n",
    "harvard_csv.replace({\"label\": \"Soyabeans\"}, \"soyabeans\", inplace=True)\n",
    "# harvard_csv.label = harvard_csv.label.str.lower() # Does the same but lowers every single value\n",
    "\n",
    "print(f\"Total rows with 'Soyabeans' as label after change: {len(harvard_csv[harvard_csv.label == 'Soyabeans'])}\")\n",
    "print(f\"Total rows with 'soyabeans' as label after change: {len(harvard_csv[harvard_csv.label == 'soyabeans'])}\")"
   ],
   "metadata": {
    "collapsed": false,
    "ExecuteTime": {
     "end_time": "2023-12-06T17:44:10.702344Z",
     "start_time": "2023-12-06T17:44:10.600801Z"
    }
   },
   "id": "7c5d030bd2b7790"
  },
  {
   "cell_type": "markdown",
   "source": [
    "## Check for null values in each file"
   ],
   "metadata": {
    "collapsed": false
   },
   "id": "c934aa2632d9ac4a"
  },
  {
   "cell_type": "code",
   "execution_count": 6,
   "outputs": [
    {
     "name": "stdout",
     "output_type": "stream",
     "text": [
      "Kaggle: False - Total cells: 0\n",
      "Harvard: False - Total cells: 0\n",
      "Wandb: True - Total cells: 40\n"
     ]
    }
   ],
   "source": [
    "print(f\"Kaggle: {kaggle_csv.isnull().values.any()} - Total cells: {kaggle_csv.isnull().values.sum()}\")\n",
    "print(f\"Harvard: {harvard_csv.isnull().values.any()} - Total cells: {harvard_csv.isnull().values.sum()}\")\n",
    "print(f\"Wandb: {wandb_csv.isnull().values.any()} - Total cells: {wandb_csv.isnull().values.sum()}\")"
   ],
   "metadata": {
    "collapsed": false,
    "ExecuteTime": {
     "end_time": "2023-12-06T17:44:10.704249Z",
     "start_time": "2023-12-06T17:44:10.612921Z"
    }
   },
   "id": "64650d5b4b2b6b72"
  },
  {
   "cell_type": "markdown",
   "source": [
    "## Remove null values"
   ],
   "metadata": {
    "collapsed": false
   },
   "id": "53a0e12448243055"
  },
  {
   "cell_type": "code",
   "execution_count": 7,
   "outputs": [
    {
     "name": "stdout",
     "output_type": "stream",
     "text": [
      "Number of rows of Wandb CSV: 2708\n",
      "Number of rows of Wandb CSV after cleanup: 2700\n"
     ]
    }
   ],
   "source": [
    "print(f\"Number of rows of Wandb CSV: {len(wandb_csv)}\")\n",
    "wandb_csv.dropna(inplace=True)\n",
    "print(f\"Number of rows of Wandb CSV after cleanup: {len(wandb_csv)}\")"
   ],
   "metadata": {
    "collapsed": false,
    "ExecuteTime": {
     "end_time": "2023-12-06T17:44:10.730518Z",
     "start_time": "2023-12-06T17:44:10.628678Z"
    }
   },
   "id": "db1c6e2738cf17c6"
  },
  {
   "cell_type": "markdown",
   "source": [
    "## Check column types of each file"
   ],
   "metadata": {
    "collapsed": false
   },
   "id": "19a7865392568c13"
  },
  {
   "cell_type": "code",
   "execution_count": 8,
   "outputs": [
    {
     "name": "stdout",
     "output_type": "stream",
     "text": [
      "Kaggle:\n",
      "N                int64\n",
      "P                int64\n",
      "K                int64\n",
      "temperature    float64\n",
      "humidity       float64\n",
      "ph             float64\n",
      "rainfall       float64\n",
      "label           object\n",
      "dtype: object\n",
      "\n",
      "\n",
      "Harvard:\n",
      "N                int64\n",
      "P                int64\n",
      "K                int64\n",
      "temperature    float64\n",
      "humidity       float64\n",
      "ph             float64\n",
      "rainfall       float64\n",
      "label           object\n",
      "dtype: object\n",
      "\n",
      "\n",
      "Wandb:\n",
      "N              float64\n",
      "P              float64\n",
      "K              float64\n",
      "temperature    float64\n",
      "humidity       float64\n",
      "ph             float64\n",
      "rainfall       float64\n",
      "label           object\n",
      "dtype: object\n"
     ]
    }
   ],
   "source": [
    "print(\"Kaggle:\")\n",
    "print(kaggle_csv.dtypes)\n",
    "print(\"\\n\\nHarvard:\")\n",
    "print(harvard_csv.dtypes)\n",
    "print(\"\\n\\nWandb:\")\n",
    "print(wandb_csv.dtypes)"
   ],
   "metadata": {
    "collapsed": false,
    "ExecuteTime": {
     "end_time": "2023-12-06T17:44:10.734219Z",
     "start_time": "2023-12-06T17:44:10.646143Z"
    }
   },
   "id": "2e2984f50bb3c0bc"
  },
  {
   "cell_type": "markdown",
   "source": [
    "## Convert N P K of Wandb to 'int64' (from 'float64')"
   ],
   "metadata": {
    "collapsed": false
   },
   "id": "86257cf5c5b97e97"
  },
  {
   "cell_type": "code",
   "execution_count": 9,
   "outputs": [
    {
     "name": "stdout",
     "output_type": "stream",
     "text": [
      "       N   P   K  temperature   humidity        ph    rainfall        label\n",
      "4      2  24  38    24.559816  91.635362  5.922936  111.968462  pomegranate\n",
      "5      6  18  37    19.656901  89.937010  5.937650  108.045893  pomegranate\n",
      "6      8  26  36    18.783596  87.402477  6.804781  102.518476  pomegranate\n",
      "7     37  18  39    24.146963  94.511066  6.424671  110.231663  pomegranate\n",
      "8      0  27  38    22.445813  89.901470  6.738016  109.390600  pomegranate\n",
      "...   ..  ..  ..          ...        ...       ...         ...          ...\n",
      "2703  42  59  55    40.102077  94.351102  6.979102  149.119999       papaya\n",
      "2704  43  64  47    38.589545  91.580765  6.825665  102.270823       papaya\n",
      "2705  35  67  49    41.313301  91.150880  6.617067  239.742755       papaya\n",
      "2706  56  59  55    37.035519  91.794302  6.551893  188.518142       papaya\n",
      "2707  39  64  53    23.012402  91.073555  6.598860  208.335798       papaya\n",
      "\n",
      "[2700 rows x 8 columns]\n"
     ]
    }
   ],
   "source": [
    "wandb_csv = wandb_csv.astype({\"N\": np.int64, \"P\": np.int64, \"K\": np.int64})\n",
    "print(wandb_csv)"
   ],
   "metadata": {
    "collapsed": false,
    "ExecuteTime": {
     "end_time": "2023-12-06T17:44:10.741670Z",
     "start_time": "2023-12-06T17:44:10.660389Z"
    }
   },
   "id": "cc4ba631588548f0"
  },
  {
   "cell_type": "markdown",
   "source": [
    "## Combine all three CSV and remove duplicated rows"
   ],
   "metadata": {
    "collapsed": false
   },
   "id": "dab8be3304b8b50f"
  },
  {
   "cell_type": "code",
   "execution_count": 10,
   "outputs": [
    {
     "name": "stdout",
     "output_type": "stream",
     "text": [
      "Total rows of combined CSV: 6597\n",
      "Total rows of combined CSV after removing duplicated: 3237\n"
     ]
    }
   ],
   "source": [
    "combined_csv = pd.concat([kaggle_csv, harvard_csv, wandb_csv])\n",
    "print(f\"Total rows of combined CSV: {len(combined_csv)}\")\n",
    "combined_csv.drop_duplicates(inplace=True)\n",
    "print(f\"Total rows of combined CSV after removing duplicated: {len(combined_csv)}\")"
   ],
   "metadata": {
    "collapsed": false,
    "ExecuteTime": {
     "end_time": "2023-12-06T17:44:10.761387Z",
     "start_time": "2023-12-06T17:44:10.675985Z"
    }
   },
   "id": "26db965aba9e8a74"
  },
  {
   "cell_type": "markdown",
   "source": [
    "## Show labels of combined CSV"
   ],
   "metadata": {
    "collapsed": false
   },
   "id": "77dc78081163962"
  },
  {
   "cell_type": "code",
   "execution_count": 11,
   "outputs": [
    {
     "name": "stdout",
     "output_type": "stream",
     "text": [
      "Label 'rice' has 176 rows\n",
      "Label 'maize' has 149 rows\n",
      "Label 'chickpea' has 100 rows\n",
      "Label 'kidneybeans' has 100 rows\n",
      "Label 'pigeonpeas' has 100 rows\n",
      "Label 'mothbeans' has 100 rows\n",
      "Label 'mungbean' has 100 rows\n",
      "Label 'blackgram' has 100 rows\n",
      "Label 'lentil' has 100 rows\n",
      "Label 'pomegranate' has 133 rows\n",
      "Label 'banana' has 145 rows\n",
      "Label 'mango' has 130 rows\n",
      "Label 'grapes' has 128 rows\n",
      "Label 'watermelon' has 134 rows\n",
      "Label 'muskmelon' has 132 rows\n",
      "Label 'apple' has 134 rows\n",
      "Label 'orange' has 131 rows\n",
      "Label 'papaya' has 141 rows\n",
      "Label 'coconut' has 100 rows\n",
      "Label 'cotton' has 130 rows\n",
      "Label 'jute' has 100 rows\n",
      "Label 'coffee' has 144 rows\n",
      "Label 'soyabeans' has 130 rows\n",
      "Label 'beans' has 100 rows\n",
      "Label 'peas' has 100 rows\n",
      "Label 'groundnuts' has 100 rows\n",
      "Label 'cowpeas' has 100 rows\n"
     ]
    }
   ],
   "source": [
    "combined_labels = combined_csv.label.unique()\n",
    "\n",
    "for l in combined_labels:\n",
    "    print(f\"Label '{l}' has {len(combined_csv[combined_csv.label == l])} rows\")"
   ],
   "metadata": {
    "collapsed": false,
    "ExecuteTime": {
     "end_time": "2023-12-06T17:44:10.978959Z",
     "start_time": "2023-12-06T17:44:10.707936Z"
    }
   },
   "id": "93e0d976b2b34984"
  },
  {
   "cell_type": "code",
   "execution_count": 12,
   "outputs": [],
   "source": [
    "combined_csv.to_csv(\"../Data/Combined_CR.csv\", index=False, encoding=\"UTF-8\")"
   ],
   "metadata": {
    "collapsed": false,
    "ExecuteTime": {
     "end_time": "2023-12-06T17:44:11.003639Z",
     "start_time": "2023-12-06T17:44:10.746016Z"
    }
   },
   "id": "991270193630d0e7"
  }
 ],
 "metadata": {
  "kernelspec": {
   "display_name": "Python 3",
   "language": "python",
   "name": "python3"
  },
  "language_info": {
   "codemirror_mode": {
    "name": "ipython",
    "version": 2
   },
   "file_extension": ".py",
   "mimetype": "text/x-python",
   "name": "python",
   "nbconvert_exporter": "python",
   "pygments_lexer": "ipython2",
   "version": "2.7.6"
  }
 },
 "nbformat": 4,
 "nbformat_minor": 5
}
