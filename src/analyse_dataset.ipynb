{
 "cells": [
  {
   "cell_type": "markdown",
   "source": [
    "# 1. Import the dataset"
   ],
   "metadata": {
    "collapsed": false
   },
   "id": "384d4e3b7e917af8"
  },
  {
   "cell_type": "code",
   "execution_count": null,
   "id": "initial_id",
   "metadata": {
    "collapsed": true
   },
   "outputs": [],
   "source": [
    "import pandas as pd\n",
    "\n",
    "csv_df = pd.read_csv(\"../Data/Raw/RaulSingh_CR.csv\")\n",
    "\n",
    "print(csv_df)"
   ]
  },
  {
   "cell_type": "markdown",
   "source": [
    "# 2. Number of rows, columns, classes/labels"
   ],
   "metadata": {
    "collapsed": false
   },
   "id": "2b865db26f99798e"
  },
  {
   "cell_type": "code",
   "execution_count": null,
   "outputs": [],
   "source": [
    "print(\"Total rows:\", len(csv_df))\n",
    "print(\"Columns:\", csv_df.columns)\n",
    "print(\"Total crops:\", len(csv_df.label.unique()))\n",
    "print(\"Crops:\", sorted(csv_df.label.unique()))"
   ],
   "metadata": {
    "collapsed": false
   },
   "id": "b29ae4a1db06316c"
  },
  {
   "cell_type": "markdown",
   "source": [
    "# 3. Has duplicates rows? How many?"
   ],
   "metadata": {
    "collapsed": false
   },
   "id": "f0e9289a71d25470"
  },
  {
   "cell_type": "markdown",
   "source": [],
   "metadata": {
    "collapsed": false
   },
   "id": "ac41295cf8259a94"
  },
  {
   "cell_type": "code",
   "execution_count": null,
   "outputs": [],
   "source": [
    "print(\"Has duplicates rows:\", csv_df.duplicated().any())\n",
    "print(\"Total duplicates rows:\", len(csv_df) - len(csv_df.drop_duplicates()))"
   ],
   "metadata": {
    "collapsed": false
   },
   "id": "13ad61aef581365b"
  },
  {
   "cell_type": "markdown",
   "source": [
    "# 4. Has rows with null values? How many?"
   ],
   "metadata": {
    "collapsed": false
   },
   "id": "a4f5fd0a2a0bed5b"
  },
  {
   "cell_type": "code",
   "execution_count": null,
   "outputs": [],
   "source": [
    "print(\"Has null values:\", csv_df.isnull().values.any())\n",
    "print(\"Total rows with null values:\", len(csv_df) - len(csv_df.dropna()))"
   ],
   "metadata": {
    "collapsed": false
   },
   "id": "49b49266c9c82811"
  },
  {
   "cell_type": "markdown",
   "source": [
    "# 5. Cleanup dataset"
   ],
   "metadata": {
    "collapsed": false
   },
   "id": "2cd96a9bfe861561"
  },
  {
   "cell_type": "code",
   "execution_count": null,
   "outputs": [],
   "source": [
    "clean_df = csv_df.copy()\n",
    "clean_df = clean_df.dropna()\n",
    "clean_df = clean_df.drop_duplicates()\n",
    "print(clean_df)"
   ],
   "metadata": {
    "collapsed": false
   },
   "id": "9a527abb0ab03a3f"
  },
  {
   "cell_type": "markdown",
   "source": [
    "# 6. Columns value types"
   ],
   "metadata": {
    "collapsed": false
   },
   "id": "4bb47117d83373a7"
  },
  {
   "cell_type": "code",
   "execution_count": null,
   "outputs": [],
   "source": [
    "print(csv_df.dtypes)"
   ],
   "metadata": {
    "collapsed": false
   },
   "id": "af34649dbb161470"
  },
  {
   "cell_type": "markdown",
   "source": [
    "# 7. Statistics of each column of the dataset"
   ],
   "metadata": {
    "collapsed": false
   },
   "id": "1f523ea40e99a8d7"
  },
  {
   "cell_type": "code",
   "execution_count": null,
   "outputs": [],
   "source": [
    "csv_df.describe()"
   ],
   "metadata": {
    "collapsed": false
   },
   "id": "e45e7e4427789896"
  },
  {
   "cell_type": "markdown",
   "source": [
    "# 8. Dataset column instance distribution"
   ],
   "metadata": {
    "collapsed": false
   },
   "id": "7d30a54f3a5b74c3"
  },
  {
   "cell_type": "code",
   "execution_count": null,
   "outputs": [],
   "source": [
    "import matplotlib.pyplot as plt\n",
    "\n",
    "csv_df.hist(bins=50, figsize=(16,10))\n",
    "plt.show()"
   ],
   "metadata": {
    "collapsed": false
   },
   "id": "a4d7f8845c6368f6"
  }
 ],
 "metadata": {
  "kernelspec": {
   "display_name": "Python 3",
   "language": "python",
   "name": "python3"
  },
  "language_info": {
   "codemirror_mode": {
    "name": "ipython",
    "version": 2
   },
   "file_extension": ".py",
   "mimetype": "text/x-python",
   "name": "python",
   "nbconvert_exporter": "python",
   "pygments_lexer": "ipython2",
   "version": "2.7.6"
  }
 },
 "nbformat": 4,
 "nbformat_minor": 5
}
