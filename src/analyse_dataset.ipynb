{
 "cells": [
  {
   "cell_type": "markdown",
   "source": [
    "# 1. Import the dataset"
   ],
   "metadata": {
    "collapsed": false
   },
   "id": "384d4e3b7e917af8"
  },
  {
   "cell_type": "code",
   "execution_count": null,
   "id": "initial_id",
   "metadata": {
    "collapsed": true
   },
   "outputs": [],
   "source": [
    "import pandas as pd\n",
    "\n",
    "csv_df = pd.read_csv(\"../Data/Raw/RaulSingh_CR.csv\")\n",
    "\n",
    "print(csv_df)"
   ]
  },
  {
   "cell_type": "markdown",
   "source": [
    "# 2. Number of rows, columns, classes/labels"
   ],
   "metadata": {
    "collapsed": false
   },
   "id": "2b865db26f99798e"
  },
  {
   "cell_type": "code",
   "execution_count": null,
   "outputs": [],
   "source": [
    "print(\"Total rows:\", len(csv_df))\n",
    "print(\"Total columns:\", len(csv_df.columns))\n",
    "print(\"Columns:\", csv_df.columns.values)\n",
    "print(\"Total crops:\", len(csv_df.label.unique()))\n",
    "print(\"Crops:\", sorted(csv_df.label.unique()))"
   ],
   "metadata": {
    "collapsed": false
   },
   "id": "b29ae4a1db06316c"
  },
  {
   "cell_type": "markdown",
   "source": [
    "# 3. Has duplicates rows? How many?"
   ],
   "metadata": {
    "collapsed": false
   },
   "id": "f0e9289a71d25470"
  },
  {
   "cell_type": "code",
   "execution_count": null,
   "outputs": [],
   "source": [
    "print(\"Has duplicates rows:\", csv_df.duplicated().any())\n",
    "print(\"Total duplicates rows:\", len(csv_df) - len(csv_df.drop_duplicates()))"
   ],
   "metadata": {
    "collapsed": false
   },
   "id": "13ad61aef581365b"
  },
  {
   "cell_type": "markdown",
   "source": [
    "# 4. Has rows with null values? How many?"
   ],
   "metadata": {
    "collapsed": false
   },
   "id": "a4f5fd0a2a0bed5b"
  },
  {
   "cell_type": "code",
   "execution_count": null,
   "outputs": [],
   "source": [
    "print(\"Has null values:\", csv_df.isnull().values.any())\n",
    "print(\"Total rows with null values:\", len(csv_df) - len(csv_df.dropna()))"
   ],
   "metadata": {
    "collapsed": false
   },
   "id": "49b49266c9c82811"
  },
  {
   "cell_type": "markdown",
   "source": [
    "# 5. Cleanup dataset for further analysis\n",
    "Additionally, show row count of cleaned file"
   ],
   "metadata": {
    "collapsed": false
   },
   "id": "2cd96a9bfe861561"
  },
  {
   "cell_type": "code",
   "execution_count": null,
   "outputs": [],
   "source": [
    "clean_df = csv_df.copy()\n",
    "clean_df = clean_df.dropna()\n",
    "clean_df = clean_df.drop_duplicates()\n",
    "print(clean_df)\n",
    "print(\"Cleaned dataset row count:\", len(clean_df))"
   ],
   "metadata": {
    "collapsed": false
   },
   "id": "9a527abb0ab03a3f"
  },
  {
   "cell_type": "markdown",
   "source": [
    "# 6. Columns value types"
   ],
   "metadata": {
    "collapsed": false
   },
   "id": "4bb47117d83373a7"
  },
  {
   "cell_type": "code",
   "execution_count": null,
   "outputs": [],
   "source": [
    "print(clean_df.dtypes)"
   ],
   "metadata": {
    "collapsed": false
   },
   "id": "af34649dbb161470"
  },
  {
   "cell_type": "markdown",
   "source": [
    "# 7. Statistics of each column of the dataset"
   ],
   "metadata": {
    "collapsed": false
   },
   "id": "1f523ea40e99a8d7"
  },
  {
   "cell_type": "code",
   "execution_count": null,
   "outputs": [],
   "source": [
    "clean_df.describe()"
   ],
   "metadata": {
    "collapsed": false
   },
   "id": "e45e7e4427789896"
  },
  {
   "cell_type": "markdown",
   "source": [
    "# 8. Dataset column instance distribution"
   ],
   "metadata": {
    "collapsed": false
   },
   "id": "7d30a54f3a5b74c3"
  },
  {
   "cell_type": "code",
   "execution_count": null,
   "outputs": [],
   "source": [
    "import matplotlib.pyplot as plt\n",
    "\n",
    "clean_df.hist(bins=50, figsize=(16,10), color=\"orange\", edgecolor=\"black\")\n",
    "plt.show()"
   ],
   "metadata": {
    "collapsed": false
   },
   "id": "a4d7f8845c6368f6"
  },
  {
   "cell_type": "markdown",
   "source": [
    "# 9. Dataset crops distribution\n",
    "Includes before and after cleanup"
   ],
   "metadata": {
    "collapsed": false
   },
   "id": "38fc99f953a7f9b1"
  },
  {
   "cell_type": "code",
   "execution_count": null,
   "outputs": [],
   "source": [
    "original_label_count = csv_df.label.value_counts().sort_index()\n",
    "cleaned_label_count = clean_df.label.value_counts().sort_index()\n",
    "\n",
    "fig, (ax1, ax2) = plt.subplots(1, 2, sharey=True, figsize=(16,4))\n",
    "\n",
    "fig.suptitle(\"Crops instance distribution\", fontsize=16)\n",
    "\n",
    "ax1.bar(original_label_count.index, height=original_label_count.values, edgecolor=\"black\", color=\"orange\")\n",
    "ax1.set_title(\"Original distribution\")\n",
    "ax1.tick_params(axis=\"x\", rotation=90)\n",
    "\n",
    "ax2.bar(cleaned_label_count.index, height=cleaned_label_count.values, edgecolor=\"black\", color=\"orange\")\n",
    "ax2.set_title(\"Cleanup distribution\")\n",
    "ax2.tick_params(axis=\"x\", rotation=90)\n",
    "\n",
    "plt.show()"
   ],
   "metadata": {
    "collapsed": false
   },
   "id": "c0fdde1d1e0b8ee4"
  },
  {
   "cell_type": "markdown",
   "source": [
    "## 9.1 Side by side crops instances count"
   ],
   "metadata": {
    "collapsed": false
   },
   "id": "b09feed688b2e0e4"
  },
  {
   "cell_type": "code",
   "execution_count": null,
   "outputs": [],
   "source": [
    "distribution_df = original_label_count.to_frame()\n",
    "distribution_df.rename(columns={\"count\": \"original_count\"}, inplace=True)\n",
    "distribution_df[\"cleaned_count\"] = cleaned_label_count\n",
    "print(distribution_df)"
   ],
   "metadata": {
    "collapsed": false
   },
   "id": "f4ca41e343506fdd"
  }
 ],
 "metadata": {
  "kernelspec": {
   "display_name": "Python 3",
   "language": "python",
   "name": "python3"
  },
  "language_info": {
   "codemirror_mode": {
    "name": "ipython",
    "version": 2
   },
   "file_extension": ".py",
   "mimetype": "text/x-python",
   "name": "python",
   "nbconvert_exporter": "python",
   "pygments_lexer": "ipython2",
   "version": "2.7.6"
  }
 },
 "nbformat": 4,
 "nbformat_minor": 5
}
