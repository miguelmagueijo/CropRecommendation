{
 "cells": [
  {
   "cell_type": "markdown",
   "id": "384d4e3b7e917af8",
   "metadata": {
    "collapsed": false
   },
   "source": [
    "# 1. Import the dataset"
   ]
  },
  {
   "cell_type": "code",
   "execution_count": null,
   "id": "initial_id",
   "metadata": {},
   "outputs": [],
   "source": [
    "import pandas as pd\n",
    "\n",
    "csv_df = pd.read_csv(\"../Data/Clean/Manikanta_CR.csv\")\n",
    "\n",
    "csv_df.head(10)"
   ]
  },
  {
   "cell_type": "markdown",
   "id": "2b865db26f99798e",
   "metadata": {
    "collapsed": false
   },
   "source": [
    "# 2. Number of rows, columns, classes/labels"
   ]
  },
  {
   "cell_type": "code",
   "execution_count": null,
   "id": "b29ae4a1db06316c",
   "metadata": {
    "collapsed": false
   },
   "outputs": [],
   "source": [
    "print(\"Total rows:\", len(csv_df))\n",
    "print(\"Total columns:\", len(csv_df.columns))\n",
    "print(\"Columns:\", csv_df.columns.values)\n",
    "print(\"Total crops:\", len(csv_df.label.unique()))\n",
    "print(\"Crops:\", sorted(csv_df.label.unique()))"
   ]
  },
  {
   "cell_type": "markdown",
   "id": "f0e9289a71d25470",
   "metadata": {
    "collapsed": false
   },
   "source": [
    "# 3. Has duplicates rows? How many?"
   ]
  },
  {
   "cell_type": "code",
   "execution_count": null,
   "id": "13ad61aef581365b",
   "metadata": {
    "collapsed": false
   },
   "outputs": [],
   "source": [
    "print(\"Has duplicates rows:\", csv_df.duplicated().any())\n",
    "print(\"Total duplicates rows:\", len(csv_df) - len(csv_df.drop_duplicates()))"
   ]
  },
  {
   "cell_type": "markdown",
   "id": "a4f5fd0a2a0bed5b",
   "metadata": {
    "collapsed": false
   },
   "source": [
    "# 4. Has rows with null values? How many?"
   ]
  },
  {
   "cell_type": "code",
   "execution_count": null,
   "id": "49b49266c9c82811",
   "metadata": {
    "collapsed": false
   },
   "outputs": [],
   "source": [
    "print(\"Has null values:\", csv_df.isnull().values.any())\n",
    "print(\"Total rows with null values:\", len(csv_df) - len(csv_df.dropna()))"
   ]
  },
  {
   "cell_type": "markdown",
   "id": "2cd96a9bfe861561",
   "metadata": {
    "collapsed": false
   },
   "source": [
    "# 5. Cleanup dataset for further analysis\n",
    "Additionally, show row count of cleaned file"
   ]
  },
  {
   "cell_type": "code",
   "execution_count": null,
   "id": "9a527abb0ab03a3f",
   "metadata": {
    "collapsed": false
   },
   "outputs": [],
   "source": [
    "clean_df = csv_df.copy()\n",
    "clean_df = clean_df.dropna()\n",
    "clean_df = clean_df.drop_duplicates()\n",
    "print(clean_df)\n",
    "print(\"Cleaned dataset row count:\", len(clean_df))"
   ]
  },
  {
   "cell_type": "markdown",
   "id": "4bb47117d83373a7",
   "metadata": {
    "collapsed": false
   },
   "source": [
    "# 6. Columns value types"
   ]
  },
  {
   "cell_type": "code",
   "execution_count": null,
   "id": "af34649dbb161470",
   "metadata": {
    "collapsed": false
   },
   "outputs": [],
   "source": [
    "print(clean_df.dtypes)"
   ]
  },
  {
   "cell_type": "markdown",
   "id": "1f523ea40e99a8d7",
   "metadata": {
    "collapsed": false
   },
   "source": [
    "# 7. Statistics of each column of the dataset"
   ]
  },
  {
   "cell_type": "code",
   "execution_count": null,
   "id": "e45e7e4427789896",
   "metadata": {
    "collapsed": false
   },
   "outputs": [],
   "source": [
    "stats_table = clean_df.describe()\n",
    "stats_table.round(4)"
   ]
  },
  {
   "cell_type": "markdown",
   "id": "7d30a54f3a5b74c3",
   "metadata": {
    "collapsed": false
   },
   "source": [
    "# 8. Dataset column instance distribution"
   ]
  },
  {
   "cell_type": "code",
   "execution_count": null,
   "id": "a4d7f8845c6368f6",
   "metadata": {
    "collapsed": false
   },
   "outputs": [],
   "source": [
    "import matplotlib.pyplot as plt\n",
    "\n",
    "features_histograms = clean_df.hist(bins=50, figsize=(16,10), color=\"orange\", edgecolor=\"black\")\n",
    "\n",
    "for ax in features_histograms.flatten():\n",
    "    ax.title.set_size(14)\n",
    "    \n",
    "plt.show()"
   ]
  },
  {
   "cell_type": "markdown",
   "id": "38fc99f953a7f9b1",
   "metadata": {
    "collapsed": false
   },
   "source": [
    "# 9. Dataset crops distribution\n",
    "Includes before and after cleanup"
   ]
  },
  {
   "cell_type": "code",
   "execution_count": null,
   "id": "c0fdde1d1e0b8ee4",
   "metadata": {
    "collapsed": false
   },
   "outputs": [],
   "source": [
    "original_label_count = csv_df.label.value_counts().sort_index()\n",
    "cleaned_label_count = clean_df.label.value_counts().sort_index()\n",
    "\n",
    "fig, (ax1, ax2) = plt.subplots(1, 2, sharey=True, figsize=(16,4))\n",
    "\n",
    "fig.suptitle(\"Crops instance distribution\", fontsize=18, fontweight=\"bold\")\n",
    "\n",
    "ax1.bar(original_label_count.index, height=original_label_count.values, edgecolor=\"black\", color=\"orange\")\n",
    "ax1.set_title(\"Original distribution\", fontsize=14)\n",
    "ax1.tick_params(axis=\"x\", rotation=90, labelsize=12)\n",
    "\n",
    "ax2.bar(cleaned_label_count.index, height=cleaned_label_count.values, edgecolor=\"black\", color=\"orange\")\n",
    "ax2.set_title(\"After cleanup distribution\", fontsize=14)\n",
    "ax2.tick_params(axis=\"x\", rotation=90, labelsize=12)\n",
    "\n",
    "plt.show()"
   ]
  },
  {
   "cell_type": "markdown",
   "id": "b09feed688b2e0e4",
   "metadata": {
    "collapsed": false
   },
   "source": [
    "## 9.1 Side by side crops instances count"
   ]
  },
  {
   "cell_type": "code",
   "execution_count": null,
   "id": "f4ca41e343506fdd",
   "metadata": {
    "collapsed": false
   },
   "outputs": [],
   "source": [
    "distribution_df = original_label_count.to_frame()\n",
    "distribution_df.rename(columns={\"count\": \"original_count\"}, inplace=True)\n",
    "distribution_df[\"cleaned_count\"] = cleaned_label_count\n",
    "print(distribution_df)"
   ]
  },
  {
   "cell_type": "markdown",
   "id": "cea91f6ba8abd72c",
   "metadata": {
    "collapsed": false
   },
   "source": [
    "# 10. Scatter plots"
   ]
  },
  {
   "cell_type": "code",
   "execution_count": null,
   "outputs": [],
   "source": [
    "import seaborn as sns\n",
    "\n",
    "crops_palette = sns.color_palette(\"tab10\", len(clean_df.label.unique()))"
   ],
   "metadata": {
    "collapsed": false
   },
   "id": "a3d201796dacc307"
  },
  {
   "cell_type": "code",
   "execution_count": null,
   "id": "6188ae677dd25427",
   "metadata": {
    "collapsed": false
   },
   "outputs": [],
   "source": [
    "crops_pairplot = sns.pairplot(clean_df, hue=\"label\", palette=crops_palette)\n",
    "plt.setp(crops_pairplot.legend.get_texts(), fontsize=\"12\")\n",
    "\n",
    "for ax in crops_pairplot.axes.flat:\n",
    "    ax.set_xlabel(ax.get_xlabel(), fontsize=14)\n",
    "    ax.set_ylabel(ax.get_ylabel(), fontsize=14)\n",
    "\n",
    "plt.show()"
   ]
  },
  {
   "cell_type": "markdown",
   "id": "4284f17a1d492756",
   "metadata": {
    "collapsed": false
   },
   "source": [
    "## 10.1. Single scatter plot"
   ]
  },
  {
   "cell_type": "code",
   "execution_count": null,
   "id": "d88c8a7612804d4c",
   "metadata": {
    "collapsed": false
   },
   "outputs": [],
   "source": [
    "x_feature = \"K\"\n",
    "y_feature = \"B\"\n",
    "\n",
    "sp = sns.scatterplot(clean_df, x=x_feature, y=y_feature, hue=\"label\", palette=crops_palette)\n",
    "sp.legend(bbox_to_anchor=(1, 1), loc=\"upper left\", fontsize=\"12\")\n",
    "sp.set_xlabel(x_feature, fontsize=\"12\")\n",
    "sp.set_ylabel(y_feature, fontsize=\"12\")\n",
    "\n",
    "plt.show()"
   ]
  }
 ],
 "metadata": {
  "kernelspec": {
   "display_name": "Python 3 (ipykernel)",
   "language": "python",
   "name": "python3"
  },
  "language_info": {
   "codemirror_mode": {
    "name": "ipython",
    "version": 3
   },
   "file_extension": ".py",
   "mimetype": "text/x-python",
   "name": "python",
   "nbconvert_exporter": "python",
   "pygments_lexer": "ipython3",
   "version": "3.11.0"
  }
 },
 "nbformat": 4,
 "nbformat_minor": 5
}
