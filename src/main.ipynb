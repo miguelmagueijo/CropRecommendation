{
 "cells": [
  {
   "cell_type": "markdown",
   "id": "665e11b66062a1e3",
   "metadata": {
    "collapsed": false
   },
   "source": [
    "# Crop Recommendation\n",
    "With the current climate change, choosing the right crop for soil characteristic becomes hard task for framers.\n",
    "This project aims to help farmers with that task, choosing the right crop for given soil characteristics.\n",
    "To do that we can use Machine Learning Algorithms that allow us to create models capable of making predictions, in this case, predicting the right crop!\n",
    "\n",
    "## Imports\n",
    "First we need to know what we are working it! So let's import the necessary libraries that will allow us to train machine learning models.\n",
    "- **numpy** - some data operations need the advanced library **numpy**;\n",
    "- **Pandas** - to load and manipulate the dataset we must use Pandas DataFrame objects!\n",
    "- **matplotlib** - as you might know, this library is essential for creating graphs in python, and we need to create them!\n",
    "- **seaborn** - this library allows us to have a higher level interface for **matplotlib**;\n",
    "- **Scikit Learn (sklearn)** - contains the majority of the machine learning models, metrics, preprocessing functions and other important functions such as train-split of data and feature selection techniques;\n",
    "- **time** - to know how much time a function took to fully execute we need this library; \n",
    "- **xgboost** - to use XGBoost algorithm we need this library!\n",
    "- **lightgbm** - to use LightGBM algorithm we need this library!\n",
    "\n",
    "We also need:\n",
    "- **os** - this library allow us to interact with operative system API;\n",
    "- **pathlib** - to better control the path of files and directories we need this library\n",
    "- **math** - use ceil and floor functions to min and max values of each feature;\n",
    "- **json** - allows us to export python dictionary as JSON text; \n",
    "- **skops** - this library allows us to export the model to a file and use it on REST APIs or other apps;"
   ]
  },
  {
   "cell_type": "code",
   "execution_count": 253,
   "id": "initial_id",
   "metadata": {
    "ExecuteTime": {
     "end_time": "2024-01-24T15:43:51.472041800Z",
     "start_time": "2024-01-24T15:43:51.321440800Z"
    },
    "collapsed": true
   },
   "outputs": [],
   "source": [
    "import numpy as np\n",
    "import pandas as pd\n",
    "import matplotlib.pyplot as plt\n",
    "import seaborn as sns\n",
    "import time\n",
    "\n",
    "from sklearn.preprocessing import StandardScaler, LabelEncoder\n",
    "from sklearn.model_selection import train_test_split, cross_val_score\n",
    "from sklearn.pipeline import Pipeline\n",
    "from sklearn.metrics import accuracy_score, recall_score, precision_score, f1_score, confusion_matrix, ConfusionMatrixDisplay, roc_auc_score, roc_curve\n",
    "from sklearn.feature_selection import RFECV, SelectFromModel\n",
    "from sklearn.ensemble import RandomForestClassifier\n",
    "from sklearn.linear_model import LogisticRegression\n",
    "from sklearn.tree import DecisionTreeClassifier\n",
    "from sklearn.svm import SVC\n",
    "from sklearn.neural_network import MLPClassifier\n",
    "from sklearn.neighbors import KNeighborsClassifier\n",
    "from sklearn.naive_bayes import MultinomialNB\n",
    "from sklearn import clone\n",
    "from xgboost.sklearn import XGBClassifier, XGBRFClassifier\n",
    "from lightgbm.sklearn import LGBMClassifier\n",
    "\n",
    "# Model persistence\n",
    "import os\n",
    "from pathlib import Path\n",
    "import math\n",
    "import json\n",
    "from skops.io import dump as save_model_as_file\n",
    "\n",
    "# For extra code\n",
    "from sklearn import tree"
   ]
  },
  {
   "cell_type": "markdown",
   "id": "88f73eead8078cc8",
   "metadata": {
    "collapsed": false
   },
   "source": [
    "## Read dataset CSV to DataFrame\n",
    "Load the target crops dataset to an CSV and separate features from target feature/class\n",
    "\n",
    "`crops_df` - DataFrame that will contain all crops features data, (except the target feature / class);\n",
    "`crops_labels` - Series that will contain only the target feature / class;\n",
    "`ordered_labels` - Numpy array that contains alphabetically ordered all the labels of the dataset."
   ]
  },
  {
   "cell_type": "code",
   "execution_count": 254,
   "id": "b4081fc9b0e4cf7e",
   "metadata": {
    "ExecuteTime": {
     "end_time": "2024-01-24T15:43:51.485010600Z",
     "start_time": "2024-01-24T15:43:51.475085900Z"
    },
    "collapsed": false
   },
   "outputs": [
    {
     "name": "stdout",
     "output_type": "stream",
     "text": [
      "     N   P    K   ph    EC     S     Cu      Fe     Mn     Zn      B  \\\n",
      "0  143  69  217  5.9  0.58  0.23  10.20  116.35  59.96  54.85  21.29   \n",
      "1  170  36  216  5.9  0.15  0.28  15.69  114.20  56.87  31.28  28.62   \n",
      "2  158  66  219  6.8  0.34  0.20  15.29   65.87  51.81  57.12  27.59   \n",
      "3  133  45  207  6.4  0.94  0.21   8.48  103.10  43.81  68.50  47.29   \n",
      "4  132  48  218  6.7  0.54  0.19   5.59   63.40  56.40  46.71  31.04   \n",
      "\n",
      "         label  \n",
      "0  pomegranate  \n",
      "1  pomegranate  \n",
      "2  pomegranate  \n",
      "3  pomegranate  \n",
      "4  pomegranate  \n"
     ]
    }
   ],
   "source": [
    "csv_df = pd.read_csv(\"../Data/Clean/Manikanta_CR.csv\")\n",
    "\n",
    "print(csv_df.head())\n",
    "\n",
    "crops_df = csv_df.drop(\"label\", axis=1)\n",
    "crops_labels = csv_df[\"label\"]\n",
    "ordered_labels = np.unique(crops_labels.unique().tolist())"
   ]
  },
  {
   "cell_type": "markdown",
   "id": "417d4d125d18a53b",
   "metadata": {
    "collapsed": false
   },
   "source": [
    "## Split data\n",
    "Split crops data (default: 75/25) into four sets:\n",
    "- `x_train` -> crops features data to train algorithms;\n",
    "- `x_text` -> crops features data to test generated models;\n",
    "- `y_train` -> crops target feature to train algorithms (follows the same order `x_train`);\n",
    "- `y_test` -> crops target feature to test generated models (follows the same order `x_test`);"
   ]
  },
  {
   "cell_type": "code",
   "execution_count": 255,
   "id": "2a34a79ee4e2844f",
   "metadata": {
    "ExecuteTime": {
     "end_time": "2024-01-24T15:43:51.505865400Z",
     "start_time": "2024-01-24T15:43:51.484012600Z"
    },
    "collapsed": false
   },
   "outputs": [
    {
     "name": "stdout",
     "output_type": "stream",
     "text": [
      "Training size: 463 (74.91909385113269%)\n",
      "Test size: 155 (25.080906148867317%)\n"
     ]
    }
   ],
   "source": [
    "split_random_state = 420\n",
    "split_percentage = 0.25 # 1 - this value = training data size\n",
    "\n",
    "x_train, x_test, y_train, y_test = train_test_split(crops_df, crops_labels, test_size=split_percentage, random_state=split_random_state)\n",
    "\n",
    "print(f\"Training size: {len(x_train)} ({len(x_train)/len(csv_df)*100}%)\\nTest size: {len(x_test)} ({len(x_test)/len(csv_df)*100}%)\\n\")"
   ]
  },
  {
   "cell_type": "markdown",
   "id": "afcab62d289c8080",
   "metadata": {
    "collapsed": false
   },
   "source": [
    "## Data preprocessing\n",
    "This notebook does not preprocess the data in ways that it removes the outliers, duplicates and/or instances with null values. Thus, the given dataset must already be preprocessed.\n",
    "The following preprocessing only scales features values and encodes labels because of certain algorithms that require it. \n",
    "\n",
    "### Scale data\n",
    "\n",
    "As you might know, some algorithms (such as Logistic Regression and Neural Networks) need features values to be scaled/normalized. Because of this two new dataframes were created:\n",
    "- `scaled_x_train` - scaled crops features data to train algorithms;\n",
    "- `scaled_x_text` - scaled crops features data to test generated models;"
   ]
  },
  {
   "cell_type": "code",
   "execution_count": 256,
   "id": "1ccba00ae01c3ba9",
   "metadata": {
    "ExecuteTime": {
     "end_time": "2024-01-24T15:43:51.506866200Z",
     "start_time": "2024-01-24T15:43:51.488836900Z"
    },
    "collapsed": false
   },
   "outputs": [],
   "source": [
    "scaler = StandardScaler()\n",
    "scaled_x_train = pd.DataFrame(scaler.fit_transform(x_train), columns=x_train.columns)\n",
    "scaled_x_test = pd.DataFrame(scaler.transform(x_test), columns=x_test.columns)"
   ]
  },
  {
   "cell_type": "markdown",
   "id": "9c786979d5ce1408",
   "metadata": {
    "collapsed": false
   },
   "source": [
    "## Label encoder\n",
    "Since XGBoost needs label encoding, let's create new versions of `y_train` and `y_test` that are encoded (`encoded_y_train` and `encoded_y_test`)."
   ]
  },
  {
   "cell_type": "code",
   "execution_count": 257,
   "id": "e488f5000d4df80c",
   "metadata": {
    "ExecuteTime": {
     "end_time": "2024-01-24T15:43:51.555467700Z",
     "start_time": "2024-01-24T15:43:51.508868600Z"
    },
    "collapsed": false
   },
   "outputs": [],
   "source": [
    "label_encoder = LabelEncoder()\n",
    "encoded_y_train = pd.Series(label_encoder.fit_transform(y_train), name=\"label\")\n",
    "encoded_y_test = pd.Series(label_encoder.transform(y_test), name=\"label\")"
   ]
  },
  {
   "cell_type": "markdown",
   "id": "8dabed50f2ee20b6",
   "metadata": {
    "collapsed": false
   },
   "source": [
    "## Crops classes distribution\n",
    "Since crop recommendation is a multiclass problem, let's visualize which classes exits and how many instances exist for each one of them.\n",
    "If the dataset shows an imbalance of classes, the training process must be adjusted to fit with weights."
   ]
  },
  {
   "cell_type": "code",
   "execution_count": 258,
   "id": "72d37b7a4de7309f",
   "metadata": {
    "ExecuteTime": {
     "end_time": "2024-01-24T15:43:51.755663800Z",
     "start_time": "2024-01-24T15:43:51.556467200Z"
    },
    "collapsed": false
   },
   "outputs": [
    {
     "data": {
      "image/png": "[encoded data removed]",
      "text/plain": [
       "<Figure size 1200x400 with 1 Axes>"
      ]
     },
     "metadata": {},
     "output_type": "display_data"
    }
   ],
   "source": [
    "plt.figure(figsize=(12,4))\n",
    "csv_labels_hist = sns.histplot(csv_df, x=\"label\", hue=\"label\", edgecolor=\"black\", shrink=0.8)\n",
    "plt.legend([],[], frameon=False) # Remove legend from histplot, source https://stackoverflow.com/questions/54781243/hide-legend-from-seaborn-pairplot\n",
    "csv_labels_hist.set(xlabel=\"label\", ylabel=\"Count\")\n",
    "csv_labels_hist.tick_params(axis=\"x\", rotation=90)"
   ]
  },
  {
   "cell_type": "markdown",
   "id": "2d3a78fdb45e12d7",
   "metadata": {
    "collapsed": false
   },
   "source": [
    "## Feature correlation\n",
    "For the given dataset let's create feature correlation matrix.\n",
    "This correlation matrix helps us with the visualization of features that relate better to each other, thus allowing us to identify redundant information if the correlation is very high (1 or -1)."
   ]
  },
  {
   "cell_type": "code",
   "execution_count": 259,
   "id": "6e5a434b9f95b6d4",
   "metadata": {
    "ExecuteTime": {
     "end_time": "2024-01-24T15:43:51.980398400Z",
     "start_time": "2024-01-24T15:43:51.714650Z"
    },
    "collapsed": false
   },
   "outputs": [
    {
     "data": {
      "image/png": "[encoded data removed]",
      "text/plain": [
       "<Figure size 640x480 with 2 Axes>"
      ]
     },
     "metadata": {},
     "output_type": "display_data"
    }
   ],
   "source": [
    "corr_matrix = sns.heatmap(crops_df.corr(), annot=True, fmt=\".2f\", cmap=\"viridis\")\n",
    "corr_matrix.set_title(\"Feature correlation\")\n",
    "\n",
    "plt.show()"
   ]
  },
  {
   "cell_type": "markdown",
   "id": "439ab3af00ce18b3",
   "metadata": {
    "collapsed": false
   },
   "source": [
    "## Feature selection\n",
    "Select the best features of the dataset with the objective to only use the best ones.\n",
    "Creates a dictionary `selected_features` that each key corresponds to the used method followed with the abbreviation of the estimator (if used), ex: `RFECV_RF` = `RFECV with Random Forest`\n",
    "\n",
    "Methods employed for the first project:\n",
    "1. RFCEV;\n",
    "2. Model;\n",
    "\n",
    "The two algorithms chosen for choosen for the first project are:\n",
    "1. Random Forest;\n",
    "2. Support Vector Classifier (SVM family);\n",
    "\n",
    "In future others algorithms may be considered as well\n",
    "\n",
    "`s_random_state` - random value seed to ensure that results of reruns are the same\n",
    "`og_selected_features` - dictionary to save all feature selection methods without duplication check"
   ]
  },
  {
   "cell_type": "code",
   "execution_count": 260,
   "id": "c67d02719392e99",
   "metadata": {
    "ExecuteTime": {
     "end_time": "2024-01-24T15:43:51.983212900Z",
     "start_time": "2024-01-24T15:43:51.980398400Z"
    },
    "collapsed": false
   },
   "outputs": [],
   "source": [
    "fs_random_state = 2024\n",
    "og_selected_features = {}"
   ]
  },
  {
   "cell_type": "markdown",
   "id": "28e2727c05e7684c",
   "metadata": {
    "collapsed": false
   },
   "source": [
    "### RFECV\n",
    "Selects features with the Recursive feature elimination with cross validation method. This method is almost the same as the famous wrapper method (mlxtend - SequentialFeatureSelector)\n",
    "#### Random Forest"
   ]
  },
  {
   "cell_type": "code",
   "execution_count": 261,
   "id": "a7a3063a1e11296",
   "metadata": {
    "ExecuteTime": {
     "end_time": "2024-01-24T15:43:55.712344500Z",
     "start_time": "2024-01-24T15:43:51.984218500Z"
    },
    "collapsed": false
   },
   "outputs": [
    {
     "name": "stdout",
     "output_type": "stream",
     "text": [
      "Selected features: ['N' 'P' 'K' 'ph' 'EC' 'S' 'Fe' 'Mn' 'Zn' 'B']\n"
     ]
    }
   ],
   "source": [
    "rfecv_rf = RFECV(RandomForestClassifier(n_jobs=-1, random_state=fs_random_state), n_jobs=-1)\n",
    "rfecv_rf.fit(x_train, y_train)\n",
    "\n",
    "og_selected_features[\"RFECV_RF\"] = rfecv_rf.get_feature_names_out()\n",
    "print(f\"Selected features: {rfecv_rf.get_feature_names_out()}\")"
   ]
  },
  {
   "cell_type": "markdown",
   "id": "51b955a80026e591",
   "metadata": {
    "collapsed": false
   },
   "source": [
    "#### Suppor Vector Classifier"
   ]
  },
  {
   "cell_type": "code",
   "execution_count": 262,
   "id": "51ad1530248de0ac",
   "metadata": {
    "ExecuteTime": {
     "end_time": "2024-01-24T15:43:56.737169100Z",
     "start_time": "2024-01-24T15:43:55.714408200Z"
    },
    "collapsed": false
   },
   "outputs": [
    {
     "name": "stdout",
     "output_type": "stream",
     "text": [
      "Selected features: ['N' 'P' 'K' 'ph' 'EC' 'S' 'Fe' 'Mn' 'Zn' 'B']\n"
     ]
    }
   ],
   "source": [
    "rfecv_svc = RFECV(SVC(random_state=fs_random_state, kernel=\"linear\"), n_jobs=-1)\n",
    "rfecv_svc.fit(scaled_x_train, y_train)\n",
    "\n",
    "og_selected_features[\"RFECV_SVC\"] = rfecv_svc.get_feature_names_out()\n",
    "print(f\"Selected features: {rfecv_svc.get_feature_names_out()}\")"
   ]
  },
  {
   "cell_type": "markdown",
   "id": "cd4393e52de0d0e9",
   "metadata": {
    "collapsed": false
   },
   "source": [
    "### SelectFromModel\n",
    "Selects the best features based on weights that are discovered and given by the algorithm\n",
    "\n",
    "#### Random Forest"
   ]
  },
  {
   "cell_type": "code",
   "execution_count": 263,
   "id": "d8126dbe880a68c0",
   "metadata": {
    "ExecuteTime": {
     "end_time": "2024-01-24T15:43:56.878367900Z",
     "start_time": "2024-01-24T15:43:56.737169100Z"
    },
    "collapsed": false
   },
   "outputs": [
    {
     "name": "stdout",
     "output_type": "stream",
     "text": [
      "Selected features: ['K' 'EC' 'S' 'Fe' 'Mn' 'B']\n"
     ]
    }
   ],
   "source": [
    "selectModel_rf = SelectFromModel(RandomForestClassifier(random_state=fs_random_state))\n",
    "selectModel_rf.fit(x_train, y_train)\n",
    "\n",
    "og_selected_features[\"MODEL_RF\"] = selectModel_rf.get_feature_names_out()\n",
    "print(f\"Selected features: {selectModel_rf.get_feature_names_out()}\")"
   ]
  },
  {
   "cell_type": "markdown",
   "id": "a997f52ed13e8e2c",
   "metadata": {
    "collapsed": false
   },
   "source": [
    "#### Suppor Vector Classifier"
   ]
  },
  {
   "cell_type": "code",
   "execution_count": 264,
   "id": "ef57b29cc1ffdbbd",
   "metadata": {
    "ExecuteTime": {
     "end_time": "2024-01-24T15:43:56.885804500Z",
     "start_time": "2024-01-24T15:43:56.879367800Z"
    },
    "collapsed": false
   },
   "outputs": [
    {
     "name": "stdout",
     "output_type": "stream",
     "text": [
      "Selected features: ['K' 'EC' 'S' 'Fe' 'Mn' 'B']\n"
     ]
    }
   ],
   "source": [
    "selectModel_svc = SelectFromModel(SVC(random_state=fs_random_state, kernel=\"linear\"))\n",
    "selectModel_svc.fit(scaled_x_train, y_train)\n",
    "\n",
    "og_selected_features[\"MODEL_SVC\"] = selectModel_svc.get_feature_names_out()\n",
    "print(f\"Selected features: {selectModel_svc.get_feature_names_out()}\")"
   ]
  },
  {
   "cell_type": "markdown",
   "id": "6ea1993ad579d10a",
   "metadata": {
    "collapsed": false
   },
   "source": [
    "### Clean dictionary of selected features\n",
    "Joins feature selections that are the same. So it doesn't train algorithms with the same features more than once.\n",
    "Include all features too, because they are an option too!\n",
    "Creates `selected_features` that will be used in the training process."
   ]
  },
  {
   "cell_type": "code",
   "execution_count": 265,
   "id": "1b0c2d0f52b26cad",
   "metadata": {
    "ExecuteTime": {
     "end_time": "2024-01-24T15:43:56.889902Z",
     "start_time": "2024-01-24T15:43:56.886804900Z"
    },
    "collapsed": false
   },
   "outputs": [
    {
     "name": "stdout",
     "output_type": "stream",
     "text": [
      "ALL - ['N' 'P' 'K' 'ph' 'EC' 'S' 'Cu' 'Fe' 'Mn' 'Zn' 'B']\n",
      "RFECV_RF-RFECV_SVC - ['N' 'P' 'K' 'ph' 'EC' 'S' 'Fe' 'Mn' 'Zn' 'B']\n",
      "MODEL_RF-MODEL_SVC - ['K' 'EC' 'S' 'Fe' 'Mn' 'B']\n"
     ]
    }
   ],
   "source": [
    "selected_features = {\"ALL\": crops_df.columns.to_numpy()}\n",
    "\n",
    "for og_name, og_features in og_selected_features.items():\n",
    "    found_name = None\n",
    "    for name, features in selected_features.items():\n",
    "        if np.array_equal(og_features, features):\n",
    "            found_name = name\n",
    "            break\n",
    "    \n",
    "    if found_name is not None:\n",
    "        selected_features[f\"{found_name}-{og_name}\"] = selected_features.pop(found_name)\n",
    "    else:\n",
    "        selected_features[og_name] = og_features\n",
    "\n",
    "for name, features in selected_features.items():\n",
    "    print(f\"{name} - {features}\")"
   ]
  },
  {
   "cell_type": "markdown",
   "id": "d41481d6270d8c4",
   "metadata": {
    "collapsed": false
   },
   "source": [
    "## Model training/validation\n",
    "Now, let's define all the ML (Machine Learning) algorithms that will be trained with the data.\n",
    "Additionally let's create a dictionary with the full names of algorithms (`fill_name_algorithms`), tuple with the keys of algorithms that need the data of features scaled (`need_scale`) and tuple with the keys of algorithms that need the class (target feature / label) encoded in numbers (`need_class_encode`)\n",
    "\n",
    "Also let's define a random seed (`m_random_state`) so we can compare the \"same models\" on different features.\n",
    "\n",
    "**IMPORTANT**: In a first phase of my project, hyperparameter tuning isn't taken in consideration. The reason behind this choice is to verify how well models produced by algorithms with default params perform for this given problem (crop recommendation). "
   ]
  },
  {
   "cell_type": "code",
   "execution_count": 266,
   "id": "1797bc8cbd5d565d",
   "metadata": {
    "ExecuteTime": {
     "end_time": "2024-01-24T15:43:56.894960700Z",
     "start_time": "2024-01-24T15:43:56.891898800Z"
    },
    "collapsed": false
   },
   "outputs": [],
   "source": [
    "training_random_state = 1374\n",
    "\n",
    "full_name_algorithms = {\n",
    "    \"DT\": \"Decision Tree\",\n",
    "    \"RF\": \"Random Forest\",\n",
    "    \"NB\": \"Naïve Bayes\",\n",
    "    \"XGB\": \"XGBoost\",\n",
    "    \"XGBRF\": \"XGBoost (with Random Forest)\",\n",
    "    \"LGBM\": \"LightGBM\",\n",
    "    \"KNN\": \"K Nearest Neighbors\",\n",
    "    \"LoR\": \"Logistic Regression\",\n",
    "    \"SVC\": \"Support Vector Classifier\",\n",
    "    \"MLPNN\": \"Neural Network (Multi-layer Perceptron)\"\n",
    "}\n",
    "\n",
    "need_scale = (\"KNN\", \"LoR\", \"SVC\", \"MLPNN\")\n",
    "need_class_encode = (\"XGB\", \"XGBRF\")\n",
    "\n",
    "algorithms = {\n",
    "    \"DT\": DecisionTreeClassifier(random_state=training_random_state),\n",
    "    \"RF\": RandomForestClassifier(random_state=training_random_state, n_jobs=-1),\n",
    "    \"NB\": MultinomialNB(),\n",
    "    \"XGB\": XGBClassifier(random_state=training_random_state, n_jobs=-1),\n",
    "    \"XGBRF\": XGBRFClassifier(random_state=training_random_state, n_jobs=-1),\n",
    "    \"LGBM\": LGBMClassifier(random_state=training_random_state, n_jobs=-1, verbose=-1),\n",
    "    \"KNN\": KNeighborsClassifier(n_jobs=-1),\n",
    "    \"LoR\": LogisticRegression(max_iter=500, random_state=training_random_state, n_jobs=-1),\n",
    "    \"SVC\": SVC(random_state=training_random_state),\n",
    "    \"MLPNN\": MLPClassifier(random_state=training_random_state, max_iter=1000),\n",
    "}"
   ]
  },
  {
   "cell_type": "markdown",
   "id": "ed0c941c9146d7cc",
   "metadata": {
    "collapsed": false
   },
   "source": [
    "### Function to produce evaluation scores (train/test method)\n",
    "Define function that returns the metrics of a given predictions and real values\n",
    "\n",
    "Used metrics:\n",
    "- Accuracy;\n",
    "- Precision;\n",
    "- Recall;\n",
    "- F1-Score."
   ]
  },
  {
   "cell_type": "code",
   "execution_count": 282,
   "id": "4fb86a91d9970387",
   "metadata": {
    "ExecuteTime": {
     "end_time": "2024-01-24T15:43:56.899236100Z",
     "start_time": "2024-01-24T15:43:56.896962Z"
    },
    "collapsed": false
   },
   "outputs": [],
   "source": [
    "def score_model(y_pred, y_test) -> dict:\n",
    "    return {\n",
    "        \"accuracy\": round(accuracy_score(y_test, y_pred), 6),\n",
    "        \"precision\": round(precision_score(y_test, y_pred, average=\"macro\"), 6),\n",
    "        \"recall\": round(recall_score(y_test, y_pred, average=\"macro\"), 6),\n",
    "        \"f1\": round(f1_score(y_test, y_pred, average=\"macro\"), 6),\n",
    "        \"confusion_matrix\": confusion_matrix(y_test, y_pred)\n",
    "    }"
   ]
  },
  {
   "cell_type": "markdown",
   "id": "589263a70ef6a2ee",
   "metadata": {
    "collapsed": false
   },
   "source": [
    "### Train/Test split training\n",
    "Firstly we will do the traditional approach, let's train and test models on two data splits (train and test)! This allows us to verify how well a model performs on unseen data, **but attention** the test data can contain important data that allow us to predict better a certain class.\n",
    "\n",
    "For Train/Test split training we will save all the results on  `tt_results` dictionary where first level key is the feature set name."
   ]
  },
  {
   "cell_type": "code",
   "execution_count": 283,
   "id": "7c284fb3f192e19",
   "metadata": {
    "ExecuteTime": {
     "end_time": "2024-01-24T15:44:02.754318900Z",
     "start_time": "2024-01-24T15:43:56.901236400Z"
    },
    "collapsed": false
   },
   "outputs": [
    {
     "name": "stdout",
     "output_type": "stream",
     "text": [
      "\n",
      "Initialized training process on ALL (['N' 'P' 'K' 'ph' 'EC' 'S' 'Cu' 'Fe' 'Mn' 'Zn' 'B'])\n",
      "\tDT trained in 0.0061ms\n",
      "\tRF trained in 0.134ms\n",
      "\tNB trained in 0.0025ms\n",
      "\tXGB trained in 0.0907ms\n",
      "\tXGBRF trained in 0.1603ms\n",
      "\tLGBM trained in 0.252ms\n",
      "\tKNN trained in 0.0276ms\n",
      "\tLoR trained in 0.4257ms\n",
      "\tSVC trained in 0.0062ms\n",
      "\tMLPNN trained in 0.7513ms\n",
      "\n",
      "Initialized training process on RFECV_RF-RFECV_SVC (['N' 'P' 'K' 'ph' 'EC' 'S' 'Fe' 'Mn' 'Zn' 'B'])\n",
      "\tDT trained in 0.005ms\n",
      "\tRF trained in 0.1341ms\n",
      "\tNB trained in 0.003ms\n",
      "\tXGB trained in 0.0947ms\n",
      "\tXGBRF trained in 0.2299ms\n",
      "\tLGBM trained in 0.2299ms\n",
      "\tKNN trained in 0.167ms\n",
      "\tLoR trained in 0.415ms\n",
      "\tSVC trained in 0.006ms\n",
      "\tMLPNN trained in 0.674ms\n",
      "\n",
      "Initialized training process on MODEL_RF-MODEL_SVC (['K' 'EC' 'S' 'Fe' 'Mn' 'B'])\n",
      "\tDT trained in 0.004ms\n",
      "\tRF trained in 0.1258ms\n",
      "\tNB trained in 0.003ms\n",
      "\tXGB trained in 0.0956ms\n",
      "\tXGBRF trained in 0.1502ms\n",
      "\tLGBM trained in 0.1872ms\n",
      "\tKNN trained in 0.025ms\n",
      "\tLoR trained in 0.4248ms\n",
      "\tSVC trained in 0.0055ms\n",
      "\tMLPNN trained in 0.8471ms\n"
     ]
    }
   ],
   "source": [
    "tt_results = {}\n",
    "\n",
    "for name, features in selected_features.items():\n",
    "    print(f\"\\nInitialized training process on {name} ({features})\")\n",
    "    \n",
    "    tt_results[name] = { \"features\": features }\n",
    "    for key, algorithm in algorithms.items():\n",
    "        model = clone(algorithm)\n",
    "        \n",
    "        start = time.time()\n",
    "        if key in need_scale:\n",
    "            _x_train = scaled_x_train[features]\n",
    "            _x_test = scaled_x_test[features]\n",
    "        else:\n",
    "            _x_train = x_train[features]\n",
    "            _x_test = x_test[features]\n",
    "            \n",
    "        if key in need_class_encode:\n",
    "            _y_train = encoded_y_train\n",
    "            _y_test = encoded_y_test\n",
    "        else:\n",
    "            _y_train = y_train\n",
    "            _y_test = y_test\n",
    "            \n",
    "        model.fit(_x_train, _y_train)\n",
    "        y_pred = model.predict(_x_test)\n",
    "            \n",
    "        duration = round(time.time()-start, 4)\n",
    "        \n",
    "        print(f\"\\t{key} trained in {duration}ms\")\n",
    "        \n",
    "        tt_results[name][key] = score_model(y_pred, _y_test) | { \"model\": model }\n",
    "        "
   ]
  },
  {
   "cell_type": "markdown",
   "id": "e4a853c52878e1d7",
   "metadata": {
    "collapsed": false
   },
   "source": [
    "### Cross validate algorithms\n",
    "Since the traditional approach of train/test split doesn't train models leave some data for testing (evaluate) models, we can't be sure if with the test data as training the models would have the same performance. Cross validations let's use divide the data in K folds, train models on each fold and evaluate it. This approach might allow us to verify which algorithm better \"understands\" the data with the average of the evaluation (metric needs to be choosen, can be accuracy, recall, precision or f1) of each model.\n",
    "**IMPORTANT**: Cross validation is the best approach for when we have a very limited amount of data!"
   ]
  },
  {
   "cell_type": "code",
   "execution_count": 279,
   "id": "e58db3957c24bd06",
   "metadata": {
    "ExecuteTime": {
     "end_time": "2024-01-24T15:44:13.082225800Z",
     "start_time": "2024-01-24T15:44:02.756317500Z"
    },
    "collapsed": false
   },
   "outputs": [
    {
     "name": "stdout",
     "output_type": "stream",
     "text": [
      "\n",
      "Initialized cross validation process on ALL (['N' 'P' 'K' 'ph' 'EC' 'S' 'Cu' 'Fe' 'Mn' 'Zn' 'B'])\n",
      "\tDT validated in 1.8832ms\n",
      "\tRF validated in 1.1967ms\n",
      "\tNB validated in 1.4034ms\n",
      "\tXGB validated in 1.0813ms\n",
      "\tXGBRF validated in 0.2984ms\n",
      "\tLGBM validated in 1.8102ms\n",
      "\tKNN validated in 0.1078ms\n",
      "\tLoR validated in 0.0647ms\n",
      "\tSVC validated in 0.0548ms\n",
      "\tMLPNN validated in 1.1503ms\n",
      "\n",
      "Initialized cross validation process on RFECV_RF-RFECV_SVC (['N' 'P' 'K' 'ph' 'EC' 'S' 'Fe' 'Mn' 'Zn' 'B'])\n",
      "\tDT validated in 0.024ms\n",
      "\tRF validated in 0.2515ms\n",
      "\tNB validated in 0.0233ms\n",
      "\tXGB validated in 0.1103ms\n",
      "\tXGBRF validated in 0.2529ms\n",
      "\tLGBM validated in 0.9404ms\n",
      "\tKNN validated in 0.0461ms\n",
      "\tLoR validated in 0.0356ms\n",
      "\tSVC validated in 0.0455ms\n",
      "\tMLPNN validated in 0.8984ms\n",
      "\n",
      "Initialized cross validation process on MODEL_RF-MODEL_SVC (['K' 'EC' 'S' 'Fe' 'Mn' 'B'])\n",
      "\tDT validated in 0.014ms\n",
      "\tRF validated in 0.2171ms\n",
      "\tNB validated in 0.014ms\n",
      "\tXGB validated in 0.0869ms\n",
      "\tXGBRF validated in 0.1809ms\n",
      "\tLGBM validated in 0.9207ms\n",
      "\tKNN validated in 0.0461ms\n",
      "\tLoR validated in 0.0487ms\n",
      "\tSVC validated in 0.0236ms\n",
      "\tMLPNN validated in 1.0046ms\n"
     ]
    }
   ],
   "source": [
    "cv_results = {}\n",
    "\n",
    "for name, features in selected_features.items():\n",
    "    cv_results[name] = { \"features\": features }\n",
    "    \n",
    "    print(f\"\\nInitialized cross validation process on {name} ({features})\")\n",
    "    for key, algorithm in algorithms.items():\n",
    "        if key in need_scale:\n",
    "            _x = pd.concat([scaled_x_train, scaled_x_test])\n",
    "        else:\n",
    "            _x = pd.concat([x_train, x_test])\n",
    "        \n",
    "        if key in need_class_encode:\n",
    "            _y = pd.concat([encoded_y_train, encoded_y_test])\n",
    "        else:\n",
    "            _y = pd.concat([y_train, y_test])\n",
    "        \n",
    "        start = time.time()\n",
    "        model = clone(algorithm)\n",
    "        cv_score = cross_val_score(model, _x[features], _y, n_jobs=-1, scoring=\"f1_macro\")\n",
    "        duration = round(time.time()-start, 4)\n",
    "        \n",
    "        print(f\"\\t{key} validated in {duration}ms\")\n",
    "        \n",
    "        cv_results[name][key] = {\n",
    "            \"mean\": round(cv_score.mean(), 6),\n",
    "            \"std\": cv_score.std(),\n",
    "            \"model\": model\n",
    "        }"
   ]
  },
  {
   "cell_type": "markdown",
   "id": "9a8672ce9fbb0b17",
   "metadata": {
    "collapsed": false
   },
   "source": [
    "## Results\n",
    "After training every single model it is essential to select the best one that will help us in the crop recommendation task.\n",
    "In this section we will visualize the statistics of train/test split training and cross validation process, so after we can filter the best one (algorithm) for the problem and train a last model on all data to use in a real world app or REST API. \n",
    "\n",
    "### Train/Test split"
   ]
  },
  {
   "cell_type": "code",
   "execution_count": 284,
   "id": "84b2bdf8497c554c",
   "metadata": {
    "ExecuteTime": {
     "end_time": "2024-01-24T15:44:13.169383200Z",
     "start_time": "2024-01-24T15:44:13.083224700Z"
    },
    "collapsed": false
   },
   "outputs": [
    {
     "data": {
      "text/html": [
       "<div>\n",
       "<style scoped>\n",
       "    .dataframe tbody tr th:only-of-type {\n",
       "        vertical-align: middle;\n",
       "    }\n",
       "\n",
       "    .dataframe tbody tr th {\n",
       "        vertical-align: top;\n",
       "    }\n",
       "\n",
       "    .dataframe thead th {\n",
       "        text-align: right;\n",
       "    }\n",
       "</style>\n",
       "<table border=\"1\" class=\"dataframe\">\n",
       "  <thead>\n",
       "    <tr style=\"text-align: right;\">\n",
       "      <th></th>\n",
       "      <th>ALL</th>\n",
       "      <th>RFECV_RF-RFECV_SVC</th>\n",
       "      <th>MODEL_RF-MODEL_SVC</th>\n",
       "    </tr>\n",
       "  </thead>\n",
       "  <tbody>\n",
       "    <tr>\n",
       "      <th>features</th>\n",
       "      <td>[N, P, K, ph, EC, S, Cu, Fe, Mn, Zn, B]</td>\n",
       "      <td>[N, P, K, ph, EC, S, Fe, Mn, Zn, B]</td>\n",
       "      <td>[K, EC, S, Fe, Mn, B]</td>\n",
       "    </tr>\n",
       "    <tr>\n",
       "      <th>DT</th>\n",
       "      <td>{'accuracy': 0.941935, 'precision': 0.941118, ...</td>\n",
       "      <td>{'accuracy': 0.941935, 'precision': 0.941118, ...</td>\n",
       "      <td>{'accuracy': 0.935484, 'precision': 0.936246, ...</td>\n",
       "    </tr>\n",
       "    <tr>\n",
       "      <th>RF</th>\n",
       "      <td>{'accuracy': 0.974194, 'precision': 0.972912, ...</td>\n",
       "      <td>{'accuracy': 0.974194, 'precision': 0.972912, ...</td>\n",
       "      <td>{'accuracy': 0.967742, 'precision': 0.967357, ...</td>\n",
       "    </tr>\n",
       "    <tr>\n",
       "      <th>NB</th>\n",
       "      <td>{'accuracy': 0.941935, 'precision': 0.946004, ...</td>\n",
       "      <td>{'accuracy': 0.941935, 'precision': 0.946004, ...</td>\n",
       "      <td>{'accuracy': 0.896774, 'precision': 0.909792, ...</td>\n",
       "    </tr>\n",
       "    <tr>\n",
       "      <th>XGB</th>\n",
       "      <td>{'accuracy': 0.96129, 'precision': 0.960499, '...</td>\n",
       "      <td>{'accuracy': 0.974194, 'precision': 0.972912, ...</td>\n",
       "      <td>{'accuracy': 0.96129, 'precision': 0.960499, '...</td>\n",
       "    </tr>\n",
       "    <tr>\n",
       "      <th>XGBRF</th>\n",
       "      <td>{'accuracy': 0.96129, 'precision': 0.960293, '...</td>\n",
       "      <td>{'accuracy': 0.974194, 'precision': 0.972912, ...</td>\n",
       "      <td>{'accuracy': 0.974194, 'precision': 0.972912, ...</td>\n",
       "    </tr>\n",
       "    <tr>\n",
       "      <th>LGBM</th>\n",
       "      <td>{'accuracy': 0.96129, 'precision': 0.960499, '...</td>\n",
       "      <td>{'accuracy': 0.96129, 'precision': 0.960499, '...</td>\n",
       "      <td>{'accuracy': 0.96129, 'precision': 0.960499, '...</td>\n",
       "    </tr>\n",
       "    <tr>\n",
       "      <th>KNN</th>\n",
       "      <td>{'accuracy': 0.974194, 'precision': 0.972912, ...</td>\n",
       "      <td>{'accuracy': 0.974194, 'precision': 0.972912, ...</td>\n",
       "      <td>{'accuracy': 0.967742, 'precision': 0.967136, ...</td>\n",
       "    </tr>\n",
       "    <tr>\n",
       "      <th>LoR</th>\n",
       "      <td>{'accuracy': 0.967742, 'precision': 0.96737, '...</td>\n",
       "      <td>{'accuracy': 0.96129, 'precision': 0.961294, '...</td>\n",
       "      <td>{'accuracy': 0.974194, 'precision': 0.972912, ...</td>\n",
       "    </tr>\n",
       "    <tr>\n",
       "      <th>SVC</th>\n",
       "      <td>{'accuracy': 0.974194, 'precision': 0.972912, ...</td>\n",
       "      <td>{'accuracy': 0.974194, 'precision': 0.972912, ...</td>\n",
       "      <td>{'accuracy': 0.974194, 'precision': 0.972912, ...</td>\n",
       "    </tr>\n",
       "    <tr>\n",
       "      <th>MLPNN</th>\n",
       "      <td>{'accuracy': 0.954839, 'precision': 0.95455, '...</td>\n",
       "      <td>{'accuracy': 0.948387, 'precision': 0.948048, ...</td>\n",
       "      <td>{'accuracy': 0.967742, 'precision': 0.966246, ...</td>\n",
       "    </tr>\n",
       "  </tbody>\n",
       "</table>\n",
       "</div>"
      ],
      "text/plain": [
       "                                                        ALL  \\\n",
       "features            [N, P, K, ph, EC, S, Cu, Fe, Mn, Zn, B]   \n",
       "DT        {'accuracy': 0.941935, 'precision': 0.941118, ...   \n",
       "RF        {'accuracy': 0.974194, 'precision': 0.972912, ...   \n",
       "NB        {'accuracy': 0.941935, 'precision': 0.946004, ...   \n",
       "XGB       {'accuracy': 0.96129, 'precision': 0.960499, '...   \n",
       "XGBRF     {'accuracy': 0.96129, 'precision': 0.960293, '...   \n",
       "LGBM      {'accuracy': 0.96129, 'precision': 0.960499, '...   \n",
       "KNN       {'accuracy': 0.974194, 'precision': 0.972912, ...   \n",
       "LoR       {'accuracy': 0.967742, 'precision': 0.96737, '...   \n",
       "SVC       {'accuracy': 0.974194, 'precision': 0.972912, ...   \n",
       "MLPNN     {'accuracy': 0.954839, 'precision': 0.95455, '...   \n",
       "\n",
       "                                         RFECV_RF-RFECV_SVC  \\\n",
       "features                [N, P, K, ph, EC, S, Fe, Mn, Zn, B]   \n",
       "DT        {'accuracy': 0.941935, 'precision': 0.941118, ...   \n",
       "RF        {'accuracy': 0.974194, 'precision': 0.972912, ...   \n",
       "NB        {'accuracy': 0.941935, 'precision': 0.946004, ...   \n",
       "XGB       {'accuracy': 0.974194, 'precision': 0.972912, ...   \n",
       "XGBRF     {'accuracy': 0.974194, 'precision': 0.972912, ...   \n",
       "LGBM      {'accuracy': 0.96129, 'precision': 0.960499, '...   \n",
       "KNN       {'accuracy': 0.974194, 'precision': 0.972912, ...   \n",
       "LoR       {'accuracy': 0.96129, 'precision': 0.961294, '...   \n",
       "SVC       {'accuracy': 0.974194, 'precision': 0.972912, ...   \n",
       "MLPNN     {'accuracy': 0.948387, 'precision': 0.948048, ...   \n",
       "\n",
       "                                         MODEL_RF-MODEL_SVC  \n",
       "features                              [K, EC, S, Fe, Mn, B]  \n",
       "DT        {'accuracy': 0.935484, 'precision': 0.936246, ...  \n",
       "RF        {'accuracy': 0.967742, 'precision': 0.967357, ...  \n",
       "NB        {'accuracy': 0.896774, 'precision': 0.909792, ...  \n",
       "XGB       {'accuracy': 0.96129, 'precision': 0.960499, '...  \n",
       "XGBRF     {'accuracy': 0.974194, 'precision': 0.972912, ...  \n",
       "LGBM      {'accuracy': 0.96129, 'precision': 0.960499, '...  \n",
       "KNN       {'accuracy': 0.967742, 'precision': 0.967136, ...  \n",
       "LoR       {'accuracy': 0.974194, 'precision': 0.972912, ...  \n",
       "SVC       {'accuracy': 0.974194, 'precision': 0.972912, ...  \n",
       "MLPNN     {'accuracy': 0.967742, 'precision': 0.966246, ...  "
      ]
     },
     "execution_count": 83,
     "metadata": {},
     "output_type": "execute_result"
    }
   ],
   "source": [
    "pd.DataFrame.from_dict(tt_results)"
   ]
  },
  {
   "cell_type": "markdown",
   "id": "25ff802d511320ac",
   "metadata": {
    "collapsed": false
   },
   "source": [
    "#### Confusion matrix\n",
    "To see which labels the model has a more difficult time to correctly predict, we can use the Confusion Matrix that shows which classes the model has a bigger problem in differentiating.\n",
    "In `cf_matrix` you can change which confusion matrix will be shown."
   ]
  },
  {
   "cell_type": "code",
   "execution_count": 291,
   "id": "ee4a8a935327805e",
   "metadata": {
    "ExecuteTime": {
     "end_time": "2024-01-25T01:32:58.991126400Z",
     "start_time": "2024-01-25T01:32:58.850736400Z"
    },
    "collapsed": false
   },
   "outputs": [
    {
     "data": {
      "image/png": "[encoded data removed]",
      "text/plain": [
       "<Figure size 800x600 with 2 Axes>"
      ]
     },
     "metadata": {},
     "output_type": "display_data"
    }
   ],
   "source": [
    "cf_matrix = tt_results[\"ALL\"][\"RF\"][\"confusion_matrix\"]\n",
    "\n",
    "plt.figure(figsize=(8,6))\n",
    "ax = sns.heatmap(cf_matrix, annot=True, cmap=\"viridis\", square=True, xticklabels=ordered_labels, yticklabels=ordered_labels)\n",
    "\n",
    "plt.show()"
   ]
  },
  {
   "cell_type": "markdown",
   "id": "b7adc9cb0a64cd7",
   "metadata": {
    "collapsed": false
   },
   "source": [
    "### Cross validation"
   ]
  },
  {
   "cell_type": "code",
   "execution_count": 281,
   "id": "d4ec4f32bf0ab1fd",
   "metadata": {
    "ExecuteTime": {
     "end_time": "2024-01-25T01:30:34.192025Z",
     "start_time": "2024-01-25T01:30:34.164451Z"
    },
    "collapsed": false
   },
   "outputs": [
    {
     "data": {
      "text/html": [
       "<div>\n",
       "<style scoped>\n",
       "    .dataframe tbody tr th:only-of-type {\n",
       "        vertical-align: middle;\n",
       "    }\n",
       "\n",
       "    .dataframe tbody tr th {\n",
       "        vertical-align: top;\n",
       "    }\n",
       "\n",
       "    .dataframe thead th {\n",
       "        text-align: right;\n",
       "    }\n",
       "</style>\n",
       "<table border=\"1\" class=\"dataframe\">\n",
       "  <thead>\n",
       "    <tr style=\"text-align: right;\">\n",
       "      <th></th>\n",
       "      <th>ALL</th>\n",
       "      <th>RFECV_RF-RFECV_SVC</th>\n",
       "      <th>MODEL_RF-MODEL_SVC</th>\n",
       "    </tr>\n",
       "  </thead>\n",
       "  <tbody>\n",
       "    <tr>\n",
       "      <th>features</th>\n",
       "      <td>[N, P, K, ph, EC, S, Cu, Fe, Mn, Zn, B]</td>\n",
       "      <td>[N, P, K, ph, EC, S, Fe, Mn, Zn, B]</td>\n",
       "      <td>[K, EC, S, Fe, Mn, B]</td>\n",
       "    </tr>\n",
       "    <tr>\n",
       "      <th>DT</th>\n",
       "      <td>{'mean': 93.7185, 'std': 2.835777208955912, 'm...</td>\n",
       "      <td>{'mean': 94.9995, 'std': 2.1069046967450635, '...</td>\n",
       "      <td>{'mean': 93.8518, 'std': 1.8427533597823558, '...</td>\n",
       "    </tr>\n",
       "    <tr>\n",
       "      <th>RF</th>\n",
       "      <td>{'mean': 96.7627, 'std': 2.0979301386696387, '...</td>\n",
       "      <td>{'mean': 96.7627, 'std': 2.0979301386696387, '...</td>\n",
       "      <td>{'mean': 96.602, 'std': 2.0584608006613436, 'm...</td>\n",
       "    </tr>\n",
       "    <tr>\n",
       "      <th>NB</th>\n",
       "      <td>{'mean': 92.4331, 'std': 1.176360294537144, 'm...</td>\n",
       "      <td>{'mean': 91.94250000000001, 'std': 1.406871867...</td>\n",
       "      <td>{'mean': 87.1408, 'std': 3.7851002773721305, '...</td>\n",
       "    </tr>\n",
       "    <tr>\n",
       "      <th>XGB</th>\n",
       "      <td>{'mean': 96.59649999999999, 'std': 1.583881676...</td>\n",
       "      <td>{'mean': 96.7553, 'std': 1.7092398462022849, '...</td>\n",
       "      <td>{'mean': 96.276, 'std': 1.7351911855284075, 'm...</td>\n",
       "    </tr>\n",
       "    <tr>\n",
       "      <th>XGBRF</th>\n",
       "      <td>{'mean': 96.9182, 'std': 1.8853357816023777, '...</td>\n",
       "      <td>{'mean': 96.9182, 'std': 1.8853357816023777, '...</td>\n",
       "      <td>{'mean': 96.922, 'std': 1.4923738769618127, 'm...</td>\n",
       "    </tr>\n",
       "    <tr>\n",
       "      <th>LGBM</th>\n",
       "      <td>{'mean': 95.1661, 'std': 2.345932458746323, 'm...</td>\n",
       "      <td>{'mean': 95.1661, 'std': 2.345932458746323, 'm...</td>\n",
       "      <td>{'mean': 96.28989999999999, 'std': 2.548242645...</td>\n",
       "    </tr>\n",
       "    <tr>\n",
       "      <th>KNN</th>\n",
       "      <td>{'mean': 96.7545, 'std': 1.3591125693476869, '...</td>\n",
       "      <td>{'mean': 96.7545, 'std': 1.3591125693476869, '...</td>\n",
       "      <td>{'mean': 96.4145, 'std': 1.8980067732224197, '...</td>\n",
       "    </tr>\n",
       "    <tr>\n",
       "      <th>LoR</th>\n",
       "      <td>{'mean': 96.272, 'std': 1.5058522072743818, 'm...</td>\n",
       "      <td>{'mean': 96.4349, 'std': 1.5036676675409495, '...</td>\n",
       "      <td>{'mean': 96.5879, 'std': 1.5743770063469549, '...</td>\n",
       "    </tr>\n",
       "    <tr>\n",
       "      <th>SVC</th>\n",
       "      <td>{'mean': 97.0809, 'std': 1.671908414352737, 'm...</td>\n",
       "      <td>{'mean': 97.0809, 'std': 1.671908414352737, 'm...</td>\n",
       "      <td>{'mean': 96.7433, 'std': 1.7802287197252815, '...</td>\n",
       "    </tr>\n",
       "    <tr>\n",
       "      <th>MLPNN</th>\n",
       "      <td>{'mean': 94.5179, 'std': 3.075319772088786, 'm...</td>\n",
       "      <td>{'mean': 94.83709999999999, 'std': 1.629289530...</td>\n",
       "      <td>{'mean': 96.1164, 'std': 1.9967822812113771, '...</td>\n",
       "    </tr>\n",
       "  </tbody>\n",
       "</table>\n",
       "</div>"
      ],
      "text/plain": [
       "                                                        ALL  \\\n",
       "features            [N, P, K, ph, EC, S, Cu, Fe, Mn, Zn, B]   \n",
       "DT        {'mean': 93.7185, 'std': 2.835777208955912, 'm...   \n",
       "RF        {'mean': 96.7627, 'std': 2.0979301386696387, '...   \n",
       "NB        {'mean': 92.4331, 'std': 1.176360294537144, 'm...   \n",
       "XGB       {'mean': 96.59649999999999, 'std': 1.583881676...   \n",
       "XGBRF     {'mean': 96.9182, 'std': 1.8853357816023777, '...   \n",
       "LGBM      {'mean': 95.1661, 'std': 2.345932458746323, 'm...   \n",
       "KNN       {'mean': 96.7545, 'std': 1.3591125693476869, '...   \n",
       "LoR       {'mean': 96.272, 'std': 1.5058522072743818, 'm...   \n",
       "SVC       {'mean': 97.0809, 'std': 1.671908414352737, 'm...   \n",
       "MLPNN     {'mean': 94.5179, 'std': 3.075319772088786, 'm...   \n",
       "\n",
       "                                         RFECV_RF-RFECV_SVC  \\\n",
       "features                [N, P, K, ph, EC, S, Fe, Mn, Zn, B]   \n",
       "DT        {'mean': 94.9995, 'std': 2.1069046967450635, '...   \n",
       "RF        {'mean': 96.7627, 'std': 2.0979301386696387, '...   \n",
       "NB        {'mean': 91.94250000000001, 'std': 1.406871867...   \n",
       "XGB       {'mean': 96.7553, 'std': 1.7092398462022849, '...   \n",
       "XGBRF     {'mean': 96.9182, 'std': 1.8853357816023777, '...   \n",
       "LGBM      {'mean': 95.1661, 'std': 2.345932458746323, 'm...   \n",
       "KNN       {'mean': 96.7545, 'std': 1.3591125693476869, '...   \n",
       "LoR       {'mean': 96.4349, 'std': 1.5036676675409495, '...   \n",
       "SVC       {'mean': 97.0809, 'std': 1.671908414352737, 'm...   \n",
       "MLPNN     {'mean': 94.83709999999999, 'std': 1.629289530...   \n",
       "\n",
       "                                         MODEL_RF-MODEL_SVC  \n",
       "features                              [K, EC, S, Fe, Mn, B]  \n",
       "DT        {'mean': 93.8518, 'std': 1.8427533597823558, '...  \n",
       "RF        {'mean': 96.602, 'std': 2.0584608006613436, 'm...  \n",
       "NB        {'mean': 87.1408, 'std': 3.7851002773721305, '...  \n",
       "XGB       {'mean': 96.276, 'std': 1.7351911855284075, 'm...  \n",
       "XGBRF     {'mean': 96.922, 'std': 1.4923738769618127, 'm...  \n",
       "LGBM      {'mean': 96.28989999999999, 'std': 2.548242645...  \n",
       "KNN       {'mean': 96.4145, 'std': 1.8980067732224197, '...  \n",
       "LoR       {'mean': 96.5879, 'std': 1.5743770063469549, '...  \n",
       "SVC       {'mean': 96.7433, 'std': 1.7802287197252815, '...  \n",
       "MLPNN     {'mean': 96.1164, 'std': 1.9967822812113771, '...  "
      ]
     },
     "execution_count": 281,
     "metadata": {},
     "output_type": "execute_result"
    }
   ],
   "source": [
    "pd.DataFrame().from_dict(cv_results)"
   ]
  },
  {
   "cell_type": "markdown",
   "id": "7a4835ea43ed155c",
   "metadata": {
    "collapsed": false
   },
   "source": [
    "### Filter best models based on F1-Score\n",
    "As said before, we need to choose the select the best model, the following blocks of code will filter the best model for each feature set based on **F1-Score** that better fits this crop recommendation problem. First we will filter the best for train/test split and after for cross validation."
   ]
  },
  {
   "cell_type": "markdown",
   "id": "49d69670f72d5279",
   "metadata": {
    "collapsed": false
   },
   "source": [
    "#### Train/Test Split"
   ]
  },
  {
   "cell_type": "code",
   "execution_count": 273,
   "id": "f3dc626386ff0e22",
   "metadata": {
    "ExecuteTime": {
     "end_time": "2024-01-25T01:12:10.271718700Z",
     "start_time": "2024-01-25T01:12:10.257488700Z"
    },
    "collapsed": false
   },
   "outputs": [
    {
     "name": "stdout",
     "output_type": "stream",
     "text": [
      "{'ALL': ('RF', 97.38), 'RFECV_RF-RFECV_SVC': ('RF', 97.38), 'MODEL_RF-MODEL_SVC': ('XGBRF', 97.38)}\n"
     ]
    }
   ],
   "source": [
    "tt_best_models = {}\n",
    "\n",
    "for feature_set_name in selected_features:\n",
    "    algo_abbreviation, metrics = list(tt_results[feature_set_name].items())[1]\n",
    "    tt_best_models[feature_set_name] = (algo_abbreviation, metrics[\"f1\"])\n",
    "    \n",
    "    for algo_abbreviation, metrics in list(tt_results[feature_set_name].items())[2:]: # skip \"features\" key and first model because it's the best one at start\n",
    "        if metrics[\"f1\"] > tt_best_models[feature_set_name][1]:\n",
    "            tt_best_models[feature_set_name] = (algo_abbreviation, metrics[\"f1\"])\n",
    "        pass\n",
    "\n",
    "print(tt_best_models)"
   ]
  },
  {
   "cell_type": "markdown",
   "id": "850e380cf7dc5503",
   "metadata": {
    "collapsed": false
   },
   "source": [
    "#### Cross validation"
   ]
  },
  {
   "cell_type": "code",
   "execution_count": 274,
   "id": "1ca1939aea7f5822",
   "metadata": {
    "ExecuteTime": {
     "end_time": "2024-01-25T01:12:10.272718900Z",
     "start_time": "2024-01-25T01:12:10.262314200Z"
    },
    "collapsed": false
   },
   "outputs": [
    {
     "name": "stdout",
     "output_type": "stream",
     "text": [
      "{'ALL': ['SVC', 97.08], 'RFECV_RF-RFECV_SVC': ['SVC', 97.08], 'MODEL_RF-MODEL_SVC': ['XGBRF', 96.92]}\n"
     ]
    }
   ],
   "source": [
    "cv_best_models = {}\n",
    "\n",
    "for feature_set_name in selected_features:\n",
    "    f_algo_abbreviation, f_metrics = list(cv_results[feature_set_name].items())[1]\n",
    "    cv_best_models[feature_set_name] = [f_algo_abbreviation, f_metrics[\"mean\"]]\n",
    "    \n",
    "    for algo_abbreviation, metrics in list(cv_results[feature_set_name].items())[2:]: # skip \"features\" key and first model because it's the best one at start\n",
    "        if metrics[\"mean\"] > cv_best_models[feature_set_name][1]:\n",
    "            cv_best_models[feature_set_name] = [algo_abbreviation, metrics[\"mean\"]]\n",
    "        pass\n",
    "\n",
    "print(cv_best_models)"
   ]
  },
  {
   "cell_type": "markdown",
   "id": "3aca4742dfa8199c",
   "metadata": {
    "collapsed": false
   },
   "source": [
    "#### Remove duplicates\n",
    "In this case we will save the best model identified for each feature set and method (train/test and cross validation). Since we will train a final model in all data, we don't need to train the same model twice if both Train/Test split and Cross validation identify the same algorithm. "
   ]
  },
  {
   "cell_type": "code",
   "execution_count": 275,
   "id": "d51e0e66689645ee",
   "metadata": {
    "ExecuteTime": {
     "end_time": "2024-01-25T01:12:10.327415300Z",
     "start_time": "2024-01-25T01:12:10.273722700Z"
    },
    "collapsed": false
   },
   "outputs": [
    {
     "name": "stdout",
     "output_type": "stream",
     "text": [
      "{'ALL': ['RF', 'SVC'], 'RFECV_RF-RFECV_SVC': ['RF', 'SVC'], 'MODEL_RF-MODEL_SVC': ['XGBRF']}\n"
     ]
    }
   ],
   "source": [
    "models_to_save = {}\n",
    "\n",
    "for feature_set_name in selected_features:\n",
    "    models_to_save[feature_set_name] = [tt_best_models[feature_set_name][0]]\n",
    "    \n",
    "    if models_to_save[feature_set_name][0] != cv_best_models[feature_set_name][0]:\n",
    "        models_to_save[feature_set_name].append(cv_best_models[feature_set_name][0])\n",
    "\n",
    "print(models_to_save)"
   ]
  },
  {
   "cell_type": "markdown",
   "id": "a17700ad703f29f4",
   "metadata": {
    "collapsed": false
   },
   "source": [
    "#### Additional saves\n",
    "In the next block of code you can manually add models to be saved if they are not selected.\n",
    "**IMPORTANT**: you must add the algorithm key in the respective feature set name."
   ]
  },
  {
   "cell_type": "code",
   "execution_count": 276,
   "id": "362a16e29dd1fcbe",
   "metadata": {
    "ExecuteTime": {
     "end_time": "2024-01-25T01:12:10.329481300Z",
     "start_time": "2024-01-25T01:12:10.277534700Z"
    },
    "collapsed": false
   },
   "outputs": [],
   "source": [
    "pass"
   ]
  },
  {
   "cell_type": "markdown",
   "id": "3783a79ef7d06bca",
   "metadata": {
    "collapsed": false
   },
   "source": [
    "## Save pipelines (models) as files\n",
    "To use models in REST APIs or apps they need to be saved as a file. Let's save the best model of each best algorithm identified.\n",
    "The pipeline can also include the StandardScale if the models needs it. When model needs label encoding (such as XGBoost), it's added a warning to metadata since isn't possible to add LabelEncoder to the pipeline."
   ]
  },
  {
   "cell_type": "code",
   "execution_count": 277,
   "id": "ba25fc5baff01e6",
   "metadata": {
    "ExecuteTime": {
     "end_time": "2024-01-25T01:12:10.985601400Z",
     "start_time": "2024-01-25T01:12:10.285689Z"
    },
    "collapsed": false
   },
   "outputs": [
    {
     "name": "stdout",
     "output_type": "stream",
     "text": [
      "Final model training and saving process initialized.\n",
      "\tPipeline of \"RF\" model for feature set \"ALL\" took 0.1189ms to fit.\n",
      "\t\t[INFO] Saving pipeline... success!\n",
      "\tPipeline of \"SVC\" model for feature set \"ALL\" took 0.0055ms to fit.\n",
      "\t\t[INFO] Saving pipeline... success!\n",
      "\tPipeline of \"RF\" model for feature set \"RFECV_RF-RFECV_SVC\" took 0.1103ms to fit.\n",
      "\t\t[INFO] Saving pipeline... success!\n",
      "\tPipeline of \"SVC\" model for feature set \"RFECV_RF-RFECV_SVC\" took 0.0075ms to fit.\n",
      "\t\t[INFO] Saving pipeline... success!\n",
      "\tPipeline of \"XGBRF\" model for feature set \"MODEL_RF-MODEL_SVC\" took 0.1818ms to fit.\n",
      "\t\t[INFO] Saving pipeline... success!\n",
      "Saving metadata... success!\n",
      "Saving used dataset... success!\n"
     ]
    }
   ],
   "source": [
    "models_path = Path(\"../Models\")\n",
    "if not Path.exists(models_path):\n",
    "    os.mkdir(models_path)\n",
    "\n",
    "group_id = round(time.time())\n",
    "group_path = Path.joinpath(models_path, f\"GROUP_{group_id}/\")\n",
    "if not Path.exists(group_path):\n",
    "    os.mkdir(group_path)\n",
    "\n",
    "metadata = {\n",
    "    \"exported_on\": group_id,\n",
    "    \"warnings\": set(),\n",
    "    \"train_size\": 1 - split_percentage,\n",
    "    \"test_size\": split_percentage,\n",
    "    \"split_train_test_random_seed\": split_random_state,\n",
    "    \"feature_selection_algorithms_random_seed\": fs_random_state,\n",
    "    \"training_algorithms_random_seed\": training_random_state,\n",
    "    \"features_sets\": {},\n",
    "    \"classes\": ordered_labels.tolist(),\n",
    "    \"features_info\": {\n",
    "        feature_name: {\n",
    "            \"type\": crops_df[feature_name].dtype.name,\n",
    "            \"min\": math.floor(crops_df[feature_name].min()),\n",
    "            \"max\": math.ceil(crops_df[feature_name].max()),\n",
    "        } for feature_name in crops_df.columns\n",
    "    },\n",
    "    \"models_full_name\": {}\n",
    "}\n",
    "\n",
    "print(\"Final model training and saving process initialized.\")\n",
    "for idx, feature_set_name in enumerate(selected_features):\n",
    "    feature_set_id = f\"s{idx}\"\n",
    "    metadata[\"features_sets\"][feature_set_id] = selected_features[feature_set_name].tolist()\n",
    "    \n",
    "    for model_abbreviation in models_to_save[feature_set_name]:\n",
    "        model_filename = f\"{feature_set_id}_{model_abbreviation}.skops\"\n",
    "        \n",
    "        final_pipeline = Pipeline([])\n",
    "        \n",
    "        if model_abbreviation in need_scale:\n",
    "            final_pipeline.steps.append([\"feature_scaler\", StandardScaler()])\n",
    "        \n",
    "        if model_abbreviation in need_class_encode:\n",
    "            # https://stackoverflow.com/questions/18602489/using-a-transformer-estimator-to-transform-the-target-labels-in-sklearn-pipeli\n",
    "            metadata[\"warnings\"].add(\"Some models, such as XGBoost, require label encoding that cannot be incorporated in the pipeline. Use LabelEncoder() and fit it with the array of \\\"classes\\\".\")\n",
    "            \n",
    "            _labels = LabelEncoder().fit_transform(crops_labels)\n",
    "        else:\n",
    "            _labels = crops_labels\n",
    "            \n",
    "        final_pipeline.steps.append([\"estimator\", algorithms[model_abbreviation]])\n",
    "        \n",
    "        start = time.time()\n",
    "        \n",
    "        final_pipeline.fit(crops_df[metadata[\"features_sets\"][feature_set_id]], _labels)\n",
    "        \n",
    "        duration = round(time.time()-start, 4)\n",
    "        print(f\"\\tPipeline of \\\"{model_abbreviation}\\\" model for feature set \\\"{feature_set_name}\\\" took {duration}ms to fit.\")\n",
    "        \n",
    "        if model_abbreviation not in metadata[\"models_full_name\"]:\n",
    "            metadata[\"models_full_name\"][model_abbreviation] = full_name_algorithms[model_abbreviation]\n",
    "        \n",
    "        print(f\"\\t\\t[INFO] Saving pipeline...\", end=\" \")\n",
    "        save_model_as_file(final_pipeline, Path.joinpath(group_path, model_filename))\n",
    "        print(\"success!\")\n",
    "        \n",
    "\n",
    "print(\"Saving metadata...\", end=\" \")        \n",
    "with open(Path.joinpath(group_path, \"metadata.json\"), \"w\") as fp:\n",
    "    metadata[\"warnings\"] = list(metadata[\"warnings\"]) # set object isn't serializable, make it a list\n",
    "    \n",
    "    fp.write(json.dumps(metadata, indent=4))\n",
    "print(\"success!\")\n",
    "\n",
    "print(\"Saving used dataset...\", end=\" \")\n",
    "csv_df.to_csv(Path.joinpath(group_path, \"dataset.csv\"), index=False)\n",
    "print(\"success!\")"
   ]
  },
  {
   "cell_type": "markdown",
   "id": "148a3ffab550125a",
   "metadata": {
    "collapsed": false
   },
   "source": [
    "# Extra code\n",
    "After this point, code blocks can be whatever you want!\n",
    "One example is tree visualization for the Decision Tree for a given feature set that was selected by **Feature Selecion** process.\n",
    "\n",
    "## Tree visualization\n",
    "Let's visualize the trained Decision Tree model of all features"
   ]
  },
  {
   "cell_type": "code",
   "execution_count": 278,
   "id": "b764172336f23343",
   "metadata": {
    "ExecuteTime": {
     "end_time": "2024-01-25T01:12:11.005263100Z",
     "start_time": "2024-01-25T01:12:10.986600300Z"
    },
    "collapsed": false
   },
   "outputs": [
    {
     "ename": "KeyError",
     "evalue": "'MODEL_RF'",
     "output_type": "error",
     "traceback": [
      "\u001b[1;31m---------------------------------------------------------------------------\u001b[0m",
      "\u001b[1;31mKeyError\u001b[0m                                  Traceback (most recent call last)",
      "Cell \u001b[1;32mIn[278], line 3\u001b[0m\n\u001b[0;32m      1\u001b[0m feature_set_name \u001b[38;5;241m=\u001b[39m \u001b[38;5;124m\"\u001b[39m\u001b[38;5;124mMODEL_RF\u001b[39m\u001b[38;5;124m\"\u001b[39m\n\u001b[1;32m----> 3\u001b[0m dt_model \u001b[38;5;241m=\u001b[39m \u001b[43mtt_results\u001b[49m\u001b[43m[\u001b[49m\u001b[43mfeature_set_name\u001b[49m\u001b[43m]\u001b[49m[\u001b[38;5;124m\"\u001b[39m\u001b[38;5;124mDT\u001b[39m\u001b[38;5;124m\"\u001b[39m][\u001b[38;5;124m\"\u001b[39m\u001b[38;5;124mmodel\u001b[39m\u001b[38;5;124m\"\u001b[39m]\n\u001b[0;32m      4\u001b[0m fig \u001b[38;5;241m=\u001b[39m plt\u001b[38;5;241m.\u001b[39mfigure(figsize\u001b[38;5;241m=\u001b[39m(\u001b[38;5;241m35\u001b[39m, \u001b[38;5;241m35\u001b[39m))\n\u001b[0;32m      5\u001b[0m tree\u001b[38;5;241m.\u001b[39mplot_tree(dt_model, feature_names\u001b[38;5;241m=\u001b[39mselected_features[feature_set_name], class_names\u001b[38;5;241m=\u001b[39mdt_model\u001b[38;5;241m.\u001b[39mclasses_)\n",
      "\u001b[1;31mKeyError\u001b[0m: 'MODEL_RF'"
     ]
    }
   ],
   "source": [
    "feature_set_name = \"MODEL_RF\"\n",
    "\n",
    "dt_model = tt_results[feature_set_name][\"DT\"][\"model\"]\n",
    "fig = plt.figure(figsize=(35, 35))\n",
    "tree.plot_tree(dt_model, feature_names=selected_features[feature_set_name], class_names=dt_model.classes_)\n",
    "plt.show()"
   ]
  }
 ],
 "metadata": {
  "kernelspec": {
   "display_name": "Python 3",
   "language": "python",
   "name": "python3"
  },
  "language_info": {
   "codemirror_mode": {
    "name": "ipython",
    "version": 2
   },
   "file_extension": ".py",
   "mimetype": "text/x-python",
   "name": "python",
   "nbconvert_exporter": "python",
   "pygments_lexer": "ipython2",
   "version": "2.7.6"
  }
 },
 "nbformat": 4,
 "nbformat_minor": 5
}
